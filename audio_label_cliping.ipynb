{
 "cells": [
  {
   "cell_type": "code",
   "execution_count": 18,
   "metadata": {},
   "outputs": [],
   "source": [
    "## pip install moviepy==1.0.0\n",
    "\n",
    "import os\n",
    "import librosa\n",
    "import pandas as pd\n",
    "from moviepy.editor import *\n",
    "from tqdm import tqdm_notebook\n",
    "import numpy as np\n",
    "import re"
   ]
  },
  {
   "cell_type": "code",
   "execution_count": 19,
   "metadata": {},
   "outputs": [],
   "source": [
    "#from utils import make_dir\n",
    "def make_dir(dir_):\n",
    "    if not os.path.isdir(dir_):\n",
    "        os.mkdir(dir_)"
   ]
  },
  {
   "cell_type": "code",
   "execution_count": 20,
   "metadata": {},
   "outputs": [],
   "source": [
    "background_dir = './data/audio_label_clip/background'  # 배경 디렉터리 경로\n",
    "os.makedirs(background_dir, exist_ok=True)  # 배경 디렉터리 생성\n",
    "\n",
    "activate_dir = './data/audio_label_clip/activate'  # 배경 디렉터리 경로\n",
    "os.makedirs(activate_dir, exist_ok=True)  # 배경 디렉터리 생성\n",
    "\n",
    "negative_dir = './data/audio_label_clip/negative'  # 배경 디렉터리 경로\n",
    "os.makedirs(negative_dir, exist_ok=True)  # 배경 디렉터리 생성"
   ]
  },
  {
   "cell_type": "code",
   "execution_count": 21,
   "metadata": {},
   "outputs": [],
   "source": [
    "audio_label_clip_dir = os.path.join('.', 'data', 'audio_label_clip')\n",
    "make_dir(audio_label_clip_dir)"
   ]
  },
  {
   "cell_type": "code",
   "execution_count": 31,
   "metadata": {},
   "outputs": [],
   "source": [
    "def save(audios, label):\n",
    "    data = pd.DataFrame({\n",
    "        'audios':audios, 'label':label })\n",
    "    data.to_csv(audio_label_clip_dir+'/audio_label_clip.csv', index=False, encoding='euc-kr')"
   ]
  },
  {
   "cell_type": "code",
   "execution_count": 34,
   "metadata": {},
   "outputs": [
    {
     "name": "stdout",
     "output_type": "stream",
     "text": [
      "['khT_BIS7l8A_0', 'khT_BIS7l8A_1', 'khT_BIS7l8A_10', 'khT_BIS7l8A_11', 'khT_BIS7l8A_12', 'khT_BIS7l8A_13', 'khT_BIS7l8A_14', 'khT_BIS7l8A_15', 'khT_BIS7l8A_16', 'khT_BIS7l8A_17', 'khT_BIS7l8A_18', 'khT_BIS7l8A_19', 'khT_BIS7l8A_2', 'khT_BIS7l8A_20', 'khT_BIS7l8A_21', 'khT_BIS7l8A_22', 'khT_BIS7l8A_23', 'khT_BIS7l8A_24', 'khT_BIS7l8A_25', 'khT_BIS7l8A_26', 'khT_BIS7l8A_3', 'khT_BIS7l8A_4', 'khT_BIS7l8A_5', 'khT_BIS7l8A_6', 'khT_BIS7l8A_7', 'khT_BIS7l8A_8', 'khT_BIS7l8A_9', 'KS5wiED6vdI_0', 'KS5wiED6vdI_1', 'KS5wiED6vdI_10', 'KS5wiED6vdI_11', 'KS5wiED6vdI_12', 'KS5wiED6vdI_13', 'KS5wiED6vdI_14', 'KS5wiED6vdI_2', 'KS5wiED6vdI_3', 'KS5wiED6vdI_4', 'KS5wiED6vdI_5', 'KS5wiED6vdI_6', 'KS5wiED6vdI_7', 'KS5wiED6vdI_8', 'KS5wiED6vdI_9', 'KWlbz7VyIb4_0', 'KWlbz7VyIb4_1', 'KWlbz7VyIb4_10', 'KWlbz7VyIb4_11', 'KWlbz7VyIb4_12', 'KWlbz7VyIb4_13', 'KWlbz7VyIb4_2', 'KWlbz7VyIb4_3', 'KWlbz7VyIb4_4', 'KWlbz7VyIb4_5', 'KWlbz7VyIb4_6', 'KWlbz7VyIb4_7', 'KWlbz7VyIb4_8', 'KWlbz7VyIb4_9', 'L5AAD7w7_mc_0', 'L5AAD7w7_mc_1', 'L5AAD7w7_mc_10', 'L5AAD7w7_mc_11', 'L5AAD7w7_mc_12', 'L5AAD7w7_mc_13', 'L5AAD7w7_mc_14', 'L5AAD7w7_mc_15', 'L5AAD7w7_mc_2', 'L5AAD7w7_mc_3', 'L5AAD7w7_mc_4', 'L5AAD7w7_mc_5', 'L5AAD7w7_mc_6', 'L5AAD7w7_mc_7', 'L5AAD7w7_mc_8', 'L5AAD7w7_mc_9', 'Lnyn3Fo_u_c_0', 'Lnyn3Fo_u_c_1', 'Lnyn3Fo_u_c_2', 'Lnyn3Fo_u_c_3', 'Lnyn3Fo_u_c_4', 'LorCnNdgW-o_0', 'LorCnNdgW-o_1', 'LorCnNdgW-o_10', 'LorCnNdgW-o_11', 'LorCnNdgW-o_12', 'LorCnNdgW-o_13', 'LorCnNdgW-o_14', 'LorCnNdgW-o_15', 'LorCnNdgW-o_16', 'LorCnNdgW-o_17', 'LorCnNdgW-o_18', 'LorCnNdgW-o_19', 'LorCnNdgW-o_2', 'LorCnNdgW-o_20', 'LorCnNdgW-o_21', 'LorCnNdgW-o_22', 'LorCnNdgW-o_3', 'LorCnNdgW-o_4', 'LorCnNdgW-o_5', 'LorCnNdgW-o_6', 'LorCnNdgW-o_7', 'LorCnNdgW-o_8', 'LorCnNdgW-o_9', 'LrekzFRtIPI_0 copy', 'LrekzFRtIPI_0', 'LrekzFRtIPI_1 copy', 'LrekzFRtIPI_1', 'LrekzFRtIPI_10 copy', 'LrekzFRtIPI_10', 'LrekzFRtIPI_11 copy', 'LrekzFRtIPI_11', 'LrekzFRtIPI_12', 'LrekzFRtIPI_13', 'LrekzFRtIPI_2 copy', 'LrekzFRtIPI_2', 'LrekzFRtIPI_3 copy', 'LrekzFRtIPI_3', 'LrekzFRtIPI_4 copy', 'LrekzFRtIPI_4', 'LrekzFRtIPI_5 copy', 'LrekzFRtIPI_5', 'LrekzFRtIPI_6 copy', 'LrekzFRtIPI_6', 'LrekzFRtIPI_7 copy', 'LrekzFRtIPI_7', 'LrekzFRtIPI_8 copy', 'LrekzFRtIPI_8', 'LrekzFRtIPI_9 copy', 'LrekzFRtIPI_9', 'm9S_0_pbah4_0', 'm9S_0_pbah4_1', 'm9S_0_pbah4_2', 'm9S_0_pbah4_3', 'mESuNWbW5Co_0', 'mESuNWbW5Co_1', 'mESuNWbW5Co_10', 'mESuNWbW5Co_11', 'mESuNWbW5Co_12', 'mESuNWbW5Co_2', 'mESuNWbW5Co_3', 'mESuNWbW5Co_4', 'mESuNWbW5Co_5', 'mESuNWbW5Co_6', 'mESuNWbW5Co_7', 'mESuNWbW5Co_8', 'mESuNWbW5Co_9', 'mhPNdIT5SdE_0', 'mhPNdIT5SdE_1', 'mhPNdIT5SdE_10', 'mhPNdIT5SdE_11', 'mhPNdIT5SdE_2', 'mhPNdIT5SdE_3', 'mhPNdIT5SdE_4', 'mhPNdIT5SdE_5', 'mhPNdIT5SdE_6', 'mhPNdIT5SdE_7', 'mhPNdIT5SdE_8', 'mhPNdIT5SdE_9', 'MS3OADFiWVs_0', 'MS3OADFiWVs_1', 'MS3OADFiWVs_10', 'MS3OADFiWVs_11', 'MS3OADFiWVs_12', 'MS3OADFiWVs_13', 'MS3OADFiWVs_2', 'MS3OADFiWVs_3', 'MS3OADFiWVs_4', 'MS3OADFiWVs_5', 'MS3OADFiWVs_6', 'MS3OADFiWVs_7', 'MS3OADFiWVs_8', 'MS3OADFiWVs_9']\n"
     ]
    }
   ],
   "source": [
    "## 레이블링 데이터 위치 : ./data/label\n",
    "files = []\n",
    "for file in os.listdir(os.path.join('.', 'data', 'label_3')):\n",
    "    _, file_id = os.path.split(file)\n",
    "    if file_id.endswith('txt'):\n",
    "        name = file_id.split(\".\")[0]\n",
    "        if(name not in files):\n",
    "            files.append(name)\n",
    "print(files)\n",
    "\n",
    "background_dir = './data/audio_label_clip/background'  # 배경 디렉터리 경로\n",
    "os.makedirs(background_dir, exist_ok=True)  # 배경 디렉터리 생성\n",
    "\n",
    "activate_dir = './data/audio_label_clip/activate'  # 배경 디렉터리 경로\n",
    "os.makedirs(activate_dir, exist_ok=True)  # 배경 디렉터리 생성\n",
    "\n",
    "negative_dir = './data/audio_label_clip/negative'  # 배경 디렉터리 경로\n",
    "os.makedirs(negative_dir, exist_ok=True)  # 배경 디렉터리 생성print(files)\n"
   ]
  },
  {
   "cell_type": "code",
   "execution_count": 14,
   "metadata": {},
   "outputs": [],
   "source": [
    "background_dir = './data/audio_label_clip_for_test/background'  # 배경 디렉터리 경로\n",
    "os.makedirs(background_dir, exist_ok=True)  # 배경 디렉터리 생성\n",
    "\n",
    "activate_dir = './data/audio_label_clip_for_test/activate'  # 배경 디렉터리 경로\n",
    "os.makedirs(activate_dir, exist_ok=True)  # 배경 디렉터리 생성\n",
    "\n",
    "negative_dir = './data/audio_label_clip_for_test/negative'  # 배경 디렉터리 경로\n",
    "os.makedirs(negative_dir, exist_ok=True)  # 배경 디렉터리 생성print(files)"
   ]
  },
  {
   "cell_type": "code",
   "execution_count": 36,
   "metadata": {
    "scrolled": true
   },
   "outputs": [
    {
     "name": "stdout",
     "output_type": "stream",
     "text": [
      "file name:khT_BIS7l8A_0\n",
      "read new file\n",
      "   start  end  label\n",
      "0    2.5  7.4     10\n",
      "2.5 7.4 10\n",
      "MoviePy - Writing audio in ./data/audio_label_clip/activate\\shi_0.wav"
     ]
    },
    {
     "name": "stderr",
     "output_type": "stream",
     "text": [
      "                                                                  "
     ]
    },
    {
     "name": "stdout",
     "output_type": "stream",
     "text": [
      "\n",
      "MoviePy - Done.\n",
      "완료됬습니다.\n",
      "file name:khT_BIS7l8A_1\n",
      "read new file\n",
      "   start    end  label\n",
      "0    7.4  11.31     17\n",
      "7.4 11.31 17\n"
     ]
    },
    {
     "name": "stderr",
     "output_type": "stream",
     "text": [
      "                                                       "
     ]
    },
    {
     "name": "stdout",
     "output_type": "stream",
     "text": [
      "MoviePy - Writing audio in ./data/audio_label_clip/activate\\gae_0.wav\n",
      "MoviePy - Done.\n",
      "완료됬습니다.\n",
      "file name:khT_BIS7l8A_10\n",
      "read new file\n",
      "   start   end  label\n",
      "0   39.0  44.3     17\n",
      "39.0 44.3 17\n"
     ]
    },
    {
     "name": "stderr",
     "output_type": "stream",
     "text": [
      "                                                                  "
     ]
    },
    {
     "name": "stdout",
     "output_type": "stream",
     "text": [
      "MoviePy - Writing audio in ./data/audio_label_clip/activate\\gae_1.wav\n",
      "MoviePy - Done.\n",
      "완료됬습니다.\n",
      "file name:khT_BIS7l8A_11\n",
      "read new file\n",
      "   start   end  label\n",
      "0   44.3  49.0     10\n",
      "44.3 49.0 10\n"
     ]
    },
    {
     "name": "stderr",
     "output_type": "stream",
     "text": [
      "                                                                  "
     ]
    },
    {
     "name": "stdout",
     "output_type": "stream",
     "text": [
      "MoviePy - Writing audio in ./data/audio_label_clip/activate\\shi_1.wav\n",
      "MoviePy - Done.\n",
      "완료됬습니다.\n",
      "file name:khT_BIS7l8A_12\n",
      "read new file\n",
      "   start   end  label\n",
      "0   49.0  51.4     10\n",
      "49.0 51.4 10\n"
     ]
    },
    {
     "name": "stderr",
     "output_type": "stream",
     "text": [
      "                                                                 "
     ]
    },
    {
     "name": "stdout",
     "output_type": "stream",
     "text": [
      "MoviePy - Writing audio in ./data/audio_label_clip/activate\\shi_2.wav\n",
      "MoviePy - Done.\n",
      "완료됬습니다.\n",
      "file name:khT_BIS7l8A_13\n",
      "read new file\n",
      "   start   end  label\n",
      "0   51.4  52.8     10\n",
      "51.4 52.8 10\n"
     ]
    },
    {
     "name": "stderr",
     "output_type": "stream",
     "text": [
      "                                                                 "
     ]
    },
    {
     "name": "stdout",
     "output_type": "stream",
     "text": [
      "MoviePy - Writing audio in ./data/audio_label_clip/activate\\shi_3.wav\n",
      "MoviePy - Done.\n",
      "완료됬습니다.\n",
      "file name:khT_BIS7l8A_14\n",
      "read new file\n",
      "   start    end  label\n",
      "0   52.8  53.21     17\n",
      "52.8 53.21 17\n"
     ]
    },
    {
     "name": "stderr",
     "output_type": "stream",
     "text": [
      "                                                       "
     ]
    },
    {
     "name": "stdout",
     "output_type": "stream",
     "text": [
      "MoviePy - Writing audio in ./data/audio_label_clip/activate\\gae_2.wav\n",
      "MoviePy - Done.\n",
      "완료됬습니다.\n",
      "file name:khT_BIS7l8A_15\n",
      "read new file\n",
      "   start    end  label\n",
      "0  53.21  58.43      0\n",
      "53.21 58.43 0\n"
     ]
    },
    {
     "name": "stderr",
     "output_type": "stream",
     "text": [
      "                                                                  "
     ]
    },
    {
     "name": "stdout",
     "output_type": "stream",
     "text": [
      "MoviePy - Writing audio in ./data/audio_label_clip/negative\\negative_0.wav\n",
      "MoviePy - Done.\n",
      "완료됬습니다.\n",
      "file name:khT_BIS7l8A_16\n",
      "read new file\n",
      "   start   end  label\n",
      "0  58.43  60.5      0\n",
      "58.43 60.5 0\n"
     ]
    },
    {
     "name": "stderr",
     "output_type": "stream",
     "text": [
      "                                                                 "
     ]
    },
    {
     "name": "stdout",
     "output_type": "stream",
     "text": [
      "MoviePy - Writing audio in ./data/audio_label_clip/negative\\negative_1.wav\n",
      "MoviePy - Done.\n",
      "완료됬습니다.\n",
      "file name:khT_BIS7l8A_17\n",
      "read new file\n",
      "   start   end  label\n",
      "0   60.5  64.4     10\n",
      "60.5 64.4 10\n"
     ]
    },
    {
     "name": "stderr",
     "output_type": "stream",
     "text": [
      "                                                                 "
     ]
    },
    {
     "name": "stdout",
     "output_type": "stream",
     "text": [
      "MoviePy - Writing audio in ./data/audio_label_clip/activate\\shi_4.wav\n",
      "MoviePy - Done.\n",
      "완료됬습니다.\n",
      "file name:khT_BIS7l8A_18\n",
      "read new file\n",
      "   start   end  label\n",
      "0   64.4  66.0     10\n",
      "64.4 66.0 10\n"
     ]
    },
    {
     "name": "stderr",
     "output_type": "stream",
     "text": [
      "                                                                 "
     ]
    },
    {
     "name": "stdout",
     "output_type": "stream",
     "text": [
      "MoviePy - Writing audio in ./data/audio_label_clip/activate\\shi_5.wav\n",
      "MoviePy - Done.\n",
      "완료됬습니다.\n",
      "file name:khT_BIS7l8A_19\n",
      "read new file\n",
      "   start   end  label\n",
      "0   66.0  66.7      8\n",
      "66.0 66.7 8\n"
     ]
    },
    {
     "name": "stderr",
     "output_type": "stream",
     "text": [
      "chunk:   0%|          | 0/80 [00:00<?, ?it/s, now=None]"
     ]
    },
    {
     "name": "stdout",
     "output_type": "stream",
     "text": [
      "file name:khT_BIS7l8A_2\n",
      "read new file\n",
      "   start   end  label\n",
      "0  11.31  14.9      0\n",
      "11.31 14.9 0\n",
      "MoviePy - Writing audio in ./data/audio_label_clip/negative\\negative_2.wav\n"
     ]
    },
    {
     "name": "stderr",
     "output_type": "stream",
     "text": [
      "                                                       \r"
     ]
    },
    {
     "name": "stdout",
     "output_type": "stream",
     "text": [
      "MoviePy - Done.\n",
      "완료됬습니다.\n",
      "file name:khT_BIS7l8A_20\n",
      "read new file\n",
      "   start   end  label\n",
      "0   66.7  67.9     10\n",
      "66.7 67.9 10\n",
      "MoviePy - Writing audio in ./data/audio_label_clip/activate\\shi_6.wav"
     ]
    },
    {
     "name": "stderr",
     "output_type": "stream",
     "text": [
      "                                                               "
     ]
    },
    {
     "name": "stdout",
     "output_type": "stream",
     "text": [
      "\n",
      "MoviePy - Done.\n",
      "완료됬습니다.\n",
      "file name:khT_BIS7l8A_21\n",
      "read new file\n",
      "   start   end  label\n",
      "0   67.9  70.1      8\n",
      "67.9 70.1 8\n"
     ]
    },
    {
     "name": "stderr",
     "output_type": "stream",
     "text": [
      "chunk:   0%|          | 0/34 [00:00<?, ?it/s, now=None]"
     ]
    },
    {
     "name": "stdout",
     "output_type": "stream",
     "text": [
      "file name:khT_BIS7l8A_22\n",
      "read new file\n",
      "   start   end  label\n",
      "0   70.1  71.6      0\n",
      "70.1 71.6 0\n",
      "MoviePy - Writing audio in ./data/audio_label_clip/negative\\negative_3.wav\n"
     ]
    },
    {
     "name": "stderr",
     "output_type": "stream",
     "text": [
      "                                                               \r"
     ]
    },
    {
     "name": "stdout",
     "output_type": "stream",
     "text": [
      "MoviePy - Done.\n",
      "완료됬습니다.\n",
      "file name:khT_BIS7l8A_23\n",
      "read new file\n",
      "   start   end  label\n",
      "0   71.6  73.2     17\n",
      "71.6 73.2 17\n",
      "MoviePy - Writing audio in ./data/audio_label_clip/activate\\gae_3.wav\n"
     ]
    },
    {
     "name": "stderr",
     "output_type": "stream",
     "text": [
      "                                                                 \r"
     ]
    },
    {
     "name": "stdout",
     "output_type": "stream",
     "text": [
      "MoviePy - Done.\n",
      "완료됬습니다.\n",
      "file name:khT_BIS7l8A_24\n",
      "read new file\n",
      "   start   end  label\n",
      "0   73.2  77.7     10\n",
      "73.2 77.7 10\n",
      "MoviePy - Writing audio in ./data/audio_label_clip/activate\\shi_7.wav"
     ]
    },
    {
     "name": "stderr",
     "output_type": "stream",
     "text": [
      "chunk:   2%|▏         | 2/100 [00:00<00:06, 15.38it/s, now=None]"
     ]
    },
    {
     "name": "stdout",
     "output_type": "stream",
     "text": [
      "\n"
     ]
    },
    {
     "name": "stderr",
     "output_type": "stream",
     "text": [
      "                                                                \r"
     ]
    },
    {
     "name": "stdout",
     "output_type": "stream",
     "text": [
      "MoviePy - Done.\n",
      "완료됬습니다.\n",
      "file name:khT_BIS7l8A_25\n",
      "read new file\n",
      "   start   end  label\n",
      "0   77.7  82.5     17\n",
      "77.7 82.5 17\n",
      "MoviePy - Writing audio in ./data/audio_label_clip/activate\\gae_4.wav"
     ]
    },
    {
     "name": "stderr",
     "output_type": "stream",
     "text": [
      "                                                                "
     ]
    },
    {
     "name": "stdout",
     "output_type": "stream",
     "text": [
      "\n",
      "MoviePy - Done.\n",
      "완료됬습니다.\n",
      "file name:khT_BIS7l8A_26\n",
      "read new file\n",
      "   start    end  label\n",
      "0   82.5  105.0     12\n",
      "82.5 105.0 12\n"
     ]
    },
    {
     "name": "stderr",
     "output_type": "stream",
     "text": [
      "chunk:  10%|█         | 50/497 [00:00<00:00, 495.07it/s, now=None]"
     ]
    },
    {
     "name": "stdout",
     "output_type": "stream",
     "text": [
      "MoviePy - Writing audio in ./data/audio_label_clip/activate\\sha_0.wav\n"
     ]
    },
    {
     "name": "stderr",
     "output_type": "stream",
     "text": [
      "chunk:   0%|          | 0/100 [00:00<?, ?it/s, now=None]           "
     ]
    },
    {
     "name": "stdout",
     "output_type": "stream",
     "text": [
      "MoviePy - Done.\n",
      "완료됬습니다.\n",
      "file name:khT_BIS7l8A_3\n",
      "read new file\n",
      "   start   end  label\n",
      "0   14.9  19.4     17\n",
      "14.9 19.4 17\n",
      "MoviePy - Writing audio in ./data/audio_label_clip/activate\\gae_5.wav\n"
     ]
    },
    {
     "name": "stderr",
     "output_type": "stream",
     "text": [
      "                                                                  \r"
     ]
    },
    {
     "name": "stdout",
     "output_type": "stream",
     "text": [
      "MoviePy - Done.\n",
      "완료됬습니다.\n",
      "file name:khT_BIS7l8A_4\n",
      "read new file\n",
      "   start   end  label\n",
      "0   19.4  19.9     17\n",
      "19.4 19.9 17\n"
     ]
    },
    {
     "name": "stderr",
     "output_type": "stream",
     "text": [
      "                                                       "
     ]
    },
    {
     "name": "stdout",
     "output_type": "stream",
     "text": [
      "MoviePy - Writing audio in ./data/audio_label_clip/activate\\gae_6.wav\n",
      "MoviePy - Done.\n",
      "완료됬습니다.\n",
      "file name:khT_BIS7l8A_5\n",
      "read new file\n",
      "   start   end  label\n",
      "0   19.9  25.4      0\n",
      "19.9 25.4 0\n"
     ]
    },
    {
     "name": "stderr",
     "output_type": "stream",
     "text": [
      "                                                                    "
     ]
    },
    {
     "name": "stdout",
     "output_type": "stream",
     "text": [
      "MoviePy - Writing audio in ./data/audio_label_clip/negative\\negative_4.wav\n",
      "MoviePy - Done.\n",
      "완료됬습니다.\n",
      "file name:khT_BIS7l8A_6\n",
      "read new file\n",
      "   start   end  label\n",
      "0   25.4  27.9     17\n",
      "25.4 27.9 17\n"
     ]
    },
    {
     "name": "stderr",
     "output_type": "stream",
     "text": [
      "                                                       "
     ]
    },
    {
     "name": "stdout",
     "output_type": "stream",
     "text": [
      "MoviePy - Writing audio in ./data/audio_label_clip/activate\\gae_7.wav\n",
      "MoviePy - Done.\n",
      "완료됬습니다.\n",
      "file name:khT_BIS7l8A_7\n",
      "read new file\n",
      "   start   end  label\n",
      "0   27.9  30.5     13\n",
      "27.9 30.5 13\n"
     ]
    },
    {
     "name": "stderr",
     "output_type": "stream",
     "text": [
      "                                                       "
     ]
    },
    {
     "name": "stdout",
     "output_type": "stream",
     "text": [
      "MoviePy - Writing audio in ./data/audio_label_clip/activate\\byoung_0.wav\n",
      "MoviePy - Done.\n",
      "완료됬습니다.\n",
      "file name:khT_BIS7l8A_8\n",
      "read new file\n",
      "   start   end  label\n",
      "0   30.5  35.5     17\n",
      "30.5 35.5 17\n"
     ]
    },
    {
     "name": "stderr",
     "output_type": "stream",
     "text": [
      "                                                                  "
     ]
    },
    {
     "name": "stdout",
     "output_type": "stream",
     "text": [
      "MoviePy - Writing audio in ./data/audio_label_clip/activate\\gae_8.wav\n",
      "MoviePy - Done.\n",
      "완료됬습니다.\n",
      "file name:khT_BIS7l8A_9\n",
      "read new file\n",
      "   start   end  label\n",
      "0   35.5  39.0     10\n",
      "35.5 39.0 10\n"
     ]
    },
    {
     "name": "stderr",
     "output_type": "stream",
     "text": [
      "                                                                 "
     ]
    },
    {
     "name": "stdout",
     "output_type": "stream",
     "text": [
      "MoviePy - Writing audio in ./data/audio_label_clip/activate\\shi_8.wav\n",
      "MoviePy - Done.\n",
      "완료됬습니다.\n",
      "file name:KS5wiED6vdI_0\n",
      "read new file\n",
      "   start   end  label\n",
      "0   1.28  3.72      0\n",
      "1.28 3.72 0\n"
     ]
    },
    {
     "name": "stderr",
     "output_type": "stream",
     "text": [
      "                                                       "
     ]
    },
    {
     "name": "stdout",
     "output_type": "stream",
     "text": [
      "MoviePy - Writing audio in ./data/audio_label_clip/negative\\negative_5.wav\n",
      "MoviePy - Done.\n",
      "완료됬습니다.\n",
      "file name:KS5wiED6vdI_1\n",
      "read new file\n",
      "   start   end  label\n",
      "0   3.72  5.58      0\n",
      "3.72 5.58 0\n"
     ]
    },
    {
     "name": "stderr",
     "output_type": "stream",
     "text": [
      "                                                       "
     ]
    },
    {
     "name": "stdout",
     "output_type": "stream",
     "text": [
      "MoviePy - Writing audio in ./data/audio_label_clip/negative\\negative_6.wav\n",
      "MoviePy - Done.\n",
      "완료됬습니다.\n",
      "file name:KS5wiED6vdI_10\n",
      "read new file\n",
      "   start    end  label\n",
      "0  21.72  24.06      0\n",
      "21.72 24.06 0\n"
     ]
    },
    {
     "name": "stderr",
     "output_type": "stream",
     "text": [
      "                                                                 "
     ]
    },
    {
     "name": "stdout",
     "output_type": "stream",
     "text": [
      "MoviePy - Writing audio in ./data/audio_label_clip/negative\\negative_7.wav\n",
      "MoviePy - Done."
     ]
    },
    {
     "name": "stderr",
     "output_type": "stream",
     "text": [
      "\r"
     ]
    },
    {
     "name": "stdout",
     "output_type": "stream",
     "text": [
      "\n",
      "완료됬습니다.\n",
      "file name:KS5wiED6vdI_11\n",
      "read new file\n",
      "   start   end  label\n",
      "0  24.06  26.4      0\n",
      "24.06 26.4 0\n",
      "MoviePy - Writing audio in ./data/audio_label_clip/negative\\negative_8.wav"
     ]
    },
    {
     "name": "stderr",
     "output_type": "stream",
     "text": [
      "                                                       "
     ]
    },
    {
     "name": "stdout",
     "output_type": "stream",
     "text": [
      "\n",
      "MoviePy - Done.\n",
      "완료됬습니다.\n",
      "file name:KS5wiED6vdI_12\n",
      "read new file\n",
      "   start    end  label\n",
      "0   26.4  28.32      0\n",
      "26.4 28.32 0\n"
     ]
    },
    {
     "name": "stderr",
     "output_type": "stream",
     "text": [
      "                                                       "
     ]
    },
    {
     "name": "stdout",
     "output_type": "stream",
     "text": [
      "MoviePy - Writing audio in ./data/audio_label_clip/negative\\negative_9.wav\n",
      "MoviePy - Done.\n",
      "완료됬습니다.\n",
      "file name:KS5wiED6vdI_13\n",
      "read new file\n",
      "   start    end  label\n",
      "0  28.32  30.24      0\n",
      "28.32 30.24 0\n"
     ]
    },
    {
     "name": "stderr",
     "output_type": "stream",
     "text": [
      "                                                       "
     ]
    },
    {
     "name": "stdout",
     "output_type": "stream",
     "text": [
      "MoviePy - Writing audio in ./data/audio_label_clip/negative\\negative_10.wav\n",
      "MoviePy - Done.\n",
      "완료됬습니다.\n",
      "file name:KS5wiED6vdI_14\n",
      "read new file\n",
      "   start   end  label\n",
      "0  30.24  35.0      0\n",
      "30.24 35.0 0\n"
     ]
    },
    {
     "name": "stderr",
     "output_type": "stream",
     "text": [
      "                                                                  "
     ]
    },
    {
     "name": "stdout",
     "output_type": "stream",
     "text": [
      "MoviePy - Writing audio in ./data/audio_label_clip/negative\\negative_11.wav\n",
      "MoviePy - Done.\n",
      "완료됬습니다.\n",
      "file name:KS5wiED6vdI_2\n",
      "read new file\n",
      "   start    end  label\n",
      "0   5.58  7.319      0\n",
      "5.58 7.319 0\n"
     ]
    },
    {
     "name": "stderr",
     "output_type": "stream",
     "text": [
      "                                                       "
     ]
    },
    {
     "name": "stdout",
     "output_type": "stream",
     "text": [
      "MoviePy - Writing audio in ./data/audio_label_clip/negative\\negative_12.wav\n",
      "MoviePy - Done.\n",
      "완료됬습니다.\n",
      "file name:KS5wiED6vdI_3\n",
      "read new file\n",
      "   start   end  label\n",
      "0  7.319  12.8      0\n",
      "7.319 12.8 0\n"
     ]
    },
    {
     "name": "stderr",
     "output_type": "stream",
     "text": [
      "                                                                  "
     ]
    },
    {
     "name": "stdout",
     "output_type": "stream",
     "text": [
      "MoviePy - Writing audio in ./data/audio_label_clip/negative\\negative_13.wav\n",
      "MoviePy - Done.\n",
      "완료됬습니다.\n",
      "file name:KS5wiED6vdI_4\n",
      "read new file\n",
      "   start     end  label\n",
      "0   12.8  13.799     18\n",
      "12.8 13.799 18\n"
     ]
    },
    {
     "name": "stderr",
     "output_type": "stream",
     "text": [
      "                                                       "
     ]
    },
    {
     "name": "stdout",
     "output_type": "stream",
     "text": [
      "MoviePy - Writing audio in ./data/audio_label_clip/activate\\jot_0.wav\n",
      "MoviePy - Done.\n",
      "완료됬습니다.\n",
      "file name:KS5wiED6vdI_5\n",
      "read new file\n",
      "    start   end  label\n",
      "0  13.799  15.5      0\n",
      "13.799 15.5 0\n"
     ]
    },
    {
     "name": "stderr",
     "output_type": "stream",
     "text": [
      "                                                       "
     ]
    },
    {
     "name": "stdout",
     "output_type": "stream",
     "text": [
      "MoviePy - Writing audio in ./data/audio_label_clip/negative\\negative_14.wav\n",
      "MoviePy - Done.\n",
      "완료됬습니다.\n",
      "file name:KS5wiED6vdI_6\n",
      "read new file\n",
      "   start    end  label\n",
      "0   15.5  17.16     10\n",
      "15.5 17.16 10\n"
     ]
    },
    {
     "name": "stderr",
     "output_type": "stream",
     "text": [
      "                                                       "
     ]
    },
    {
     "name": "stdout",
     "output_type": "stream",
     "text": [
      "MoviePy - Writing audio in ./data/audio_label_clip/activate\\shi_9.wav\n",
      "MoviePy - Done.\n",
      "완료됬습니다.\n",
      "file name:KS5wiED6vdI_7\n",
      "read new file\n",
      "   start   end  label\n",
      "0  17.16  17.8      0\n",
      "17.16 17.8 0\n"
     ]
    },
    {
     "name": "stderr",
     "output_type": "stream",
     "text": [
      "                                                       "
     ]
    },
    {
     "name": "stdout",
     "output_type": "stream",
     "text": [
      "MoviePy - Writing audio in ./data/audio_label_clip/negative\\negative_15.wav\n",
      "MoviePy - Done.\n",
      "완료됬습니다.\n",
      "file name:KS5wiED6vdI_8\n",
      "read new file\n",
      "   start    end  label\n",
      "0   17.8  20.34     10\n",
      "17.8 20.34 10\n"
     ]
    },
    {
     "name": "stderr",
     "output_type": "stream",
     "text": [
      "                                                       "
     ]
    },
    {
     "name": "stdout",
     "output_type": "stream",
     "text": [
      "MoviePy - Writing audio in ./data/audio_label_clip/activate\\shi_10.wav\n",
      "MoviePy - Done.\n",
      "완료됬습니다.\n",
      "file name:KS5wiED6vdI_9\n",
      "read new file\n",
      "   start    end  label\n",
      "0  20.34  21.72      0\n",
      "20.34 21.72 0\n"
     ]
    },
    {
     "name": "stderr",
     "output_type": "stream",
     "text": [
      "                                                       "
     ]
    },
    {
     "name": "stdout",
     "output_type": "stream",
     "text": [
      "MoviePy - Writing audio in ./data/audio_label_clip/negative\\negative_16.wav\n",
      "MoviePy - Done.\n",
      "완료됬습니다.\n",
      "file name:KWlbz7VyIb4_0\n",
      "read new file\n",
      "   start   end  label\n",
      "0  0.719  3.84      0\n",
      "0.719 3.84 0\n"
     ]
    },
    {
     "name": "stderr",
     "output_type": "stream",
     "text": [
      "                                                       "
     ]
    },
    {
     "name": "stdout",
     "output_type": "stream",
     "text": [
      "MoviePy - Writing audio in ./data/audio_label_clip/negative\\negative_17.wav\n",
      "MoviePy - Done.\n",
      "완료됬습니다.\n",
      "file name:KWlbz7VyIb4_1\n",
      "read new file\n",
      "   start   end  label\n",
      "0   3.84  7.56      0\n",
      "3.84 7.56 0\n"
     ]
    },
    {
     "name": "stderr",
     "output_type": "stream",
     "text": [
      "                                                       "
     ]
    },
    {
     "name": "stdout",
     "output_type": "stream",
     "text": [
      "MoviePy - Writing audio in ./data/audio_label_clip/negative\\negative_18.wav\n",
      "MoviePy - Done.\n",
      "완료됬습니다.\n",
      "file name:KWlbz7VyIb4_10\n",
      "read new file\n",
      "   start     end  label\n",
      "0  31.56  35.719      0\n",
      "31.56 35.719 0\n"
     ]
    },
    {
     "name": "stderr",
     "output_type": "stream",
     "text": [
      "                                                                 "
     ]
    },
    {
     "name": "stdout",
     "output_type": "stream",
     "text": [
      "MoviePy - Writing audio in ./data/audio_label_clip/negative\\negative_19.wav\n",
      "MoviePy - Done.\n",
      "완료됬습니다.\n",
      "file name:KWlbz7VyIb4_11\n",
      "read new file\n",
      "   start   end  label\n",
      "0   37.8  39.0      0\n",
      "37.8 39.0 0\n"
     ]
    },
    {
     "name": "stderr",
     "output_type": "stream",
     "text": [
      "                                                       "
     ]
    },
    {
     "name": "stdout",
     "output_type": "stream",
     "text": [
      "MoviePy - Writing audio in ./data/audio_label_clip/negative\\negative_20.wav\n",
      "MoviePy - Done.\n",
      "완료됬습니다.\n",
      "file name:KWlbz7VyIb4_12\n",
      "read new file\n",
      "   start   end  label\n",
      "0   39.0  41.6      0\n",
      "39.0 41.6 0\n"
     ]
    },
    {
     "name": "stderr",
     "output_type": "stream",
     "text": [
      "                                                                 "
     ]
    },
    {
     "name": "stdout",
     "output_type": "stream",
     "text": [
      "MoviePy - Writing audio in ./data/audio_label_clip/negative\\negative_21.wav\n",
      "MoviePy - Done.\n",
      "완료됬습니다.\n",
      "file name:KWlbz7VyIb4_13\n",
      "read new file\n",
      "   start   end  label\n",
      "0   42.0  42.8     18\n",
      "42.0 42.8 18\n"
     ]
    },
    {
     "name": "stderr",
     "output_type": "stream",
     "text": [
      "                                                       "
     ]
    },
    {
     "name": "stdout",
     "output_type": "stream",
     "text": [
      "MoviePy - Writing audio in ./data/audio_label_clip/activate\\jot_1.wav\n",
      "MoviePy - Done.\n",
      "완료됬습니다.\n",
      "file name:KWlbz7VyIb4_2\n",
      "read new file\n",
      "   start     end  label\n",
      "0   9.36  10.139      0\n",
      "9.36 10.139 0\n"
     ]
    },
    {
     "name": "stderr",
     "output_type": "stream",
     "text": [
      "                                                       "
     ]
    },
    {
     "name": "stdout",
     "output_type": "stream",
     "text": [
      "MoviePy - Writing audio in ./data/audio_label_clip/negative\\negative_22.wav\n",
      "MoviePy - Done.\n",
      "완료됬습니다.\n",
      "file name:KWlbz7VyIb4_3\n",
      "read new file\n",
      "    start    end  label\n",
      "0  10.139  13.74      0\n",
      "10.139 13.74 0\n"
     ]
    },
    {
     "name": "stderr",
     "output_type": "stream",
     "text": [
      "                                                       "
     ]
    },
    {
     "name": "stdout",
     "output_type": "stream",
     "text": [
      "MoviePy - Writing audio in ./data/audio_label_clip/negative\\negative_23.wav\n",
      "MoviePy - Done.\n",
      "완료됬습니다.\n",
      "file name:KWlbz7VyIb4_4\n",
      "read new file\n",
      "   start     end  label\n",
      "0  14.82  18.119      0\n",
      "14.82 18.119 0\n"
     ]
    },
    {
     "name": "stderr",
     "output_type": "stream",
     "text": [
      "                                                       "
     ]
    },
    {
     "name": "stdout",
     "output_type": "stream",
     "text": [
      "MoviePy - Writing audio in ./data/audio_label_clip/negative\\negative_24.wav\n",
      "MoviePy - Done.\n",
      "완료됬습니다.\n",
      "file name:KWlbz7VyIb4_5\n",
      "read new file\n",
      "    start    end  label\n",
      "0  18.119  21.48      0\n",
      "18.119 21.48 0\n"
     ]
    },
    {
     "name": "stderr",
     "output_type": "stream",
     "text": [
      "                                                       "
     ]
    },
    {
     "name": "stdout",
     "output_type": "stream",
     "text": [
      "MoviePy - Writing audio in ./data/audio_label_clip/negative\\negative_25.wav\n",
      "MoviePy - Done.\n",
      "완료됬습니다.\n",
      "file name:KWlbz7VyIb4_6\n",
      "read new file\n",
      "   start    end  label\n",
      "0  21.48  23.52      0\n",
      "21.48 23.52 0\n"
     ]
    },
    {
     "name": "stderr",
     "output_type": "stream",
     "text": [
      "                                                       "
     ]
    },
    {
     "name": "stdout",
     "output_type": "stream",
     "text": [
      "MoviePy - Writing audio in ./data/audio_label_clip/negative\\negative_26.wav\n",
      "MoviePy - Done.\n",
      "완료됬습니다.\n",
      "file name:KWlbz7VyIb4_7\n",
      "read new file\n",
      "   start    end  label\n",
      "0  25.25  26.02     18\n",
      "25.25 26.02 18\n"
     ]
    },
    {
     "name": "stderr",
     "output_type": "stream",
     "text": [
      "                                                       "
     ]
    },
    {
     "name": "stdout",
     "output_type": "stream",
     "text": [
      "MoviePy - Writing audio in ./data/audio_label_clip/activate\\jot_2.wav\n",
      "MoviePy - Done.\n",
      "완료됬습니다.\n",
      "file name:KWlbz7VyIb4_8\n",
      "read new file\n",
      "   start   end  label\n",
      "0  27.18  28.4      0\n",
      "27.18 28.4 0\n"
     ]
    },
    {
     "name": "stderr",
     "output_type": "stream",
     "text": [
      "                                                       "
     ]
    },
    {
     "name": "stdout",
     "output_type": "stream",
     "text": [
      "MoviePy - Writing audio in ./data/audio_label_clip/negative\\negative_27.wav\n",
      "MoviePy - Done.\n",
      "완료됬습니다.\n",
      "file name:KWlbz7VyIb4_9\n",
      "read new file\n",
      "   start    end  label\n",
      "0   28.4  31.56      0\n",
      "28.4 31.56 0\n"
     ]
    },
    {
     "name": "stderr",
     "output_type": "stream",
     "text": [
      "                                                       "
     ]
    },
    {
     "name": "stdout",
     "output_type": "stream",
     "text": [
      "MoviePy - Writing audio in ./data/audio_label_clip/negative\\negative_28.wav\n",
      "MoviePy - Done.\n",
      "완료됬습니다.\n",
      "file name:L5AAD7w7_mc_0\n",
      "read new file\n",
      "   start    end  label\n",
      "0  2.235  2.769     12\n",
      "2.235 2.769 12\n"
     ]
    },
    {
     "name": "stderr",
     "output_type": "stream",
     "text": [
      "                                                       "
     ]
    },
    {
     "name": "stdout",
     "output_type": "stream",
     "text": [
      "MoviePy - Writing audio in ./data/audio_label_clip/activate\\sha_1.wav\n",
      "MoviePy - Done.\n",
      "완료됬습니다.\n",
      "file name:L5AAD7w7_mc_1\n",
      "read new file\n",
      "   start   end  label\n",
      "0  3.737  7.04      0\n",
      "3.737 7.04 0\n"
     ]
    },
    {
     "name": "stderr",
     "output_type": "stream",
     "text": [
      "                                                                 "
     ]
    },
    {
     "name": "stdout",
     "output_type": "stream",
     "text": [
      "MoviePy - Writing audio in ./data/audio_label_clip/negative\\negative_29.wav\n",
      "MoviePy - Done.\n",
      "완료됬습니다.\n",
      "file name:L5AAD7w7_mc_10\n",
      "read new file\n",
      "    start   end  label\n",
      "0  31.231  34.0      8\n",
      "31.231 34.0 8\n"
     ]
    },
    {
     "name": "stderr",
     "output_type": "stream",
     "text": [
      "chunk:   0%|          | 0/37 [00:00<?, ?it/s, now=None]"
     ]
    },
    {
     "name": "stdout",
     "output_type": "stream",
     "text": [
      "file name:L5AAD7w7_mc_11\n",
      "read new file\n",
      "   start     end  label\n",
      "0   34.0  35.668      0\n",
      "34.0 35.668 0\n",
      "MoviePy - Writing audio in ./data/audio_label_clip/negative\\negative_30.wav\n"
     ]
    },
    {
     "name": "stderr",
     "output_type": "stream",
     "text": [
      "chunk:   0%|          | 0/166 [00:00<?, ?it/s, now=None]         "
     ]
    },
    {
     "name": "stdout",
     "output_type": "stream",
     "text": [
      "MoviePy - Done.\n",
      "완료됬습니다.\n",
      "file name:L5AAD7w7_mc_12\n",
      "read new file\n",
      "    start     end  label\n",
      "0  35.668  43.176      0\n",
      "35.668 43.176 0\n",
      "MoviePy - Writing audio in ./data/audio_label_clip/negative\\negative_31.wav\n"
     ]
    },
    {
     "name": "stderr",
     "output_type": "stream",
     "text": [
      "chunk:   0%|          | 0/26 [00:00<?, ?it/s, now=None]           "
     ]
    },
    {
     "name": "stdout",
     "output_type": "stream",
     "text": [
      "MoviePy - Done.\n",
      "완료됬습니다.\n",
      "file name:L5AAD7w7_mc_13\n",
      "read new file\n",
      "    start     end  label\n",
      "0  43.243  44.411     12\n",
      "43.243 44.411 12\n",
      "MoviePy - Writing audio in ./data/audio_label_clip/activate\\sha_2.wav\n"
     ]
    },
    {
     "name": "stderr",
     "output_type": "stream",
     "text": [
      "                                                                 \r"
     ]
    },
    {
     "name": "stdout",
     "output_type": "stream",
     "text": [
      "MoviePy - Done.\n",
      "완료됬습니다.\n",
      "file name:L5AAD7w7_mc_14\n",
      "read new file\n",
      "    start     end  label\n",
      "0  48.615  49.082     10\n",
      "48.615 49.082 10\n",
      "MoviePy - Writing audio in ./data/audio_label_clip/activate\\shi_11.wav\n"
     ]
    },
    {
     "name": "stderr",
     "output_type": "stream",
     "text": [
      "chunk:   0%|          | 0/29 [00:00<?, ?it/s, now=None]"
     ]
    },
    {
     "name": "stdout",
     "output_type": "stream",
     "text": [
      "MoviePy - Done.\n",
      "완료됬습니다.\n",
      "file name:L5AAD7w7_mc_15\n",
      "read new file\n",
      "    start     end  label\n",
      "0  53.119  54.421     10\n",
      "53.119 54.421 10\n",
      "MoviePy - Writing audio in ./data/audio_label_clip/activate\\shi_12.wav\n"
     ]
    },
    {
     "name": "stderr",
     "output_type": "stream",
     "text": [
      "chunk:   0%|          | 0/17 [00:00<?, ?it/s, now=None]        "
     ]
    },
    {
     "name": "stdout",
     "output_type": "stream",
     "text": [
      "MoviePy - Done.\n",
      "완료됬습니다.\n",
      "file name:L5AAD7w7_mc_2\n",
      "read new file\n",
      "   start    end  label\n",
      "0   7.64  8.375     12\n",
      "7.64 8.375 12\n",
      "MoviePy - Writing audio in ./data/audio_label_clip/activate\\sha_3.wav\n"
     ]
    },
    {
     "name": "stderr",
     "output_type": "stream",
     "text": [
      "chunk:   0%|          | 0/21 [00:00<?, ?it/s, now=None]"
     ]
    },
    {
     "name": "stdout",
     "output_type": "stream",
     "text": [
      "MoviePy - Done.\n",
      "완료됬습니다.\n",
      "file name:L5AAD7w7_mc_3\n",
      "read new file\n",
      "    start     end  label\n",
      "0  10.076  11.011      0\n",
      "10.076 11.011 0\n",
      "MoviePy - Writing audio in ./data/audio_label_clip/negative\\negative_32.wav\n"
     ]
    },
    {
     "name": "stderr",
     "output_type": "stream",
     "text": [
      "                                                       \r"
     ]
    },
    {
     "name": "stdout",
     "output_type": "stream",
     "text": [
      "MoviePy - Done.\n",
      "완료됬습니다.\n",
      "file name:L5AAD7w7_mc_4\n",
      "read new file\n",
      "    start     end  label\n",
      "0  11.011  12.679      0\n",
      "11.011 12.679 0\n",
      "MoviePy - Writing audio in ./data/audio_label_clip/negative\\negative_33.wav\n"
     ]
    },
    {
     "name": "stderr",
     "output_type": "stream",
     "text": [
      "chunk:   0%|          | 0/84 [00:00<?, ?it/s, now=None]"
     ]
    },
    {
     "name": "stdout",
     "output_type": "stream",
     "text": [
      "MoviePy - Done.\n",
      "완료됬습니다.\n",
      "file name:L5AAD7w7_mc_5\n",
      "read new file\n",
      "    start     end  label\n",
      "0  12.679  16.449      0\n",
      "12.679 16.449 0\n",
      "MoviePy - Writing audio in ./data/audio_label_clip/negative\\negative_34.wav\n"
     ]
    },
    {
     "name": "stderr",
     "output_type": "stream",
     "text": [
      "                                                       \r"
     ]
    },
    {
     "name": "stdout",
     "output_type": "stream",
     "text": [
      "MoviePy - Done.\n",
      "완료됬습니다.\n",
      "file name:L5AAD7w7_mc_6\n",
      "read new file\n",
      "    start     end  label\n",
      "0  16.516  19.986      0\n",
      "16.516 19.986 0\n",
      "MoviePy - Writing audio in ./data/audio_label_clip/negative\\negative_35.wav"
     ]
    },
    {
     "name": "stderr",
     "output_type": "stream",
     "text": [
      "                                                       "
     ]
    },
    {
     "name": "stdout",
     "output_type": "stream",
     "text": [
      "\n",
      "MoviePy - Done.\n",
      "완료됬습니다.\n",
      "file name:L5AAD7w7_mc_7\n",
      "read new file\n",
      "    start     end  label\n",
      "0  20.053  23.523      0\n",
      "20.053 23.523 0\n"
     ]
    },
    {
     "name": "stderr",
     "output_type": "stream",
     "text": [
      "                                                       "
     ]
    },
    {
     "name": "stdout",
     "output_type": "stream",
     "text": [
      "MoviePy - Writing audio in ./data/audio_label_clip/negative\\negative_36.wav\n",
      "MoviePy - Done.\n",
      "완료됬습니다.\n",
      "file name:L5AAD7w7_mc_8\n",
      "read new file\n",
      "    start     end  label\n",
      "0  23.523  25.158      0\n",
      "23.523 25.158 0\n"
     ]
    },
    {
     "name": "stderr",
     "output_type": "stream",
     "text": [
      "                                                       "
     ]
    },
    {
     "name": "stdout",
     "output_type": "stream",
     "text": [
      "MoviePy - Writing audio in ./data/audio_label_clip/negative\\negative_37.wav\n",
      "MoviePy - Done.\n",
      "완료됬습니다.\n",
      "file name:L5AAD7w7_mc_9\n",
      "read new file\n",
      "    start     end  label\n",
      "0  25.158  31.097      0\n",
      "25.158 31.097 0\n"
     ]
    },
    {
     "name": "stderr",
     "output_type": "stream",
     "text": [
      "                                                                    "
     ]
    },
    {
     "name": "stdout",
     "output_type": "stream",
     "text": [
      "MoviePy - Writing audio in ./data/audio_label_clip/negative\\negative_38.wav\n",
      "MoviePy - Done.\n",
      "완료됬습니다.\n",
      "file name:Lnyn3Fo_u_c_0\n",
      "read new file\n",
      "   start  end  label\n",
      "0    3.2  4.0     18\n",
      "3.2 4.0 18\n"
     ]
    },
    {
     "name": "stderr",
     "output_type": "stream",
     "text": [
      "                                                       "
     ]
    },
    {
     "name": "stdout",
     "output_type": "stream",
     "text": [
      "MoviePy - Writing audio in ./data/audio_label_clip/activate\\jot_3.wav\n",
      "MoviePy - Done.\n",
      "완료됬습니다.\n",
      "file name:Lnyn3Fo_u_c_1\n",
      "read new file\n",
      "   start   end  label\n",
      "0    6.6  7.73     18\n",
      "6.6 7.73 18\n"
     ]
    },
    {
     "name": "stderr",
     "output_type": "stream",
     "text": [
      "                                                       "
     ]
    },
    {
     "name": "stdout",
     "output_type": "stream",
     "text": [
      "MoviePy - Writing audio in ./data/audio_label_clip/activate\\jot_4.wav\n",
      "MoviePy - Done.\n",
      "완료됬습니다.\n",
      "file name:Lnyn3Fo_u_c_2\n",
      "read new file\n",
      "   start    end  label\n",
      "0  24.95  28.03      8\n",
      "24.95 28.03 8\n"
     ]
    },
    {
     "name": "stderr",
     "output_type": "stream",
     "text": [
      "\r"
     ]
    },
    {
     "name": "stdout",
     "output_type": "stream",
     "text": [
      "file name:Lnyn3Fo_u_c_3\n",
      "read new file\n",
      "   start     end  label\n",
      "0   31.5  45.239      8\n",
      "31.5 45.239 8\n",
      "file name:Lnyn3Fo_u_c_4\n",
      "read new file\n"
     ]
    },
    {
     "name": "stderr",
     "output_type": "stream",
     "text": [
      "chunk:   0%|          | 0/51 [00:00<?, ?it/s, now=None]"
     ]
    },
    {
     "name": "stdout",
     "output_type": "stream",
     "text": [
      "    start    end  label\n",
      "0  45.239  47.54      0\n",
      "45.239 47.54 0\n",
      "MoviePy - Writing audio in ./data/audio_label_clip/negative\\negative_39.wav\n"
     ]
    },
    {
     "name": "stderr",
     "output_type": "stream",
     "text": [
      "                                                               \r"
     ]
    },
    {
     "name": "stdout",
     "output_type": "stream",
     "text": [
      "MoviePy - Done.\n",
      "완료됬습니다.\n",
      "file name:LorCnNdgW-o_0\n",
      "read new file\n",
      "   start   end  label\n",
      "0   2.94  5.22      0\n",
      "2.94 5.22 0\n",
      "MoviePy - Writing audio in ./data/audio_label_clip/negative\\negative_40.wav\n"
     ]
    },
    {
     "name": "stderr",
     "output_type": "stream",
     "text": [
      "                                                       \r"
     ]
    },
    {
     "name": "stdout",
     "output_type": "stream",
     "text": [
      "MoviePy - Done.\n",
      "완료됬습니다.\n",
      "file name:LorCnNdgW-o_1\n",
      "read new file\n",
      "   start   end  label\n",
      "0   5.22  6.12      0\n",
      "5.22 6.12 0\n",
      "MoviePy - Writing audio in ./data/audio_label_clip/negative\\negative_41.wav"
     ]
    },
    {
     "name": "stderr",
     "output_type": "stream",
     "text": [
      "                                                       "
     ]
    },
    {
     "name": "stdout",
     "output_type": "stream",
     "text": [
      "\n",
      "MoviePy - Done.\n",
      "완료됬습니다.\n",
      "file name:LorCnNdgW-o_10\n",
      "read new file\n",
      "   start    end  label\n",
      "0  29.22  30.42      0\n",
      "29.22 30.42 0\n"
     ]
    },
    {
     "name": "stderr",
     "output_type": "stream",
     "text": [
      "                                                       "
     ]
    },
    {
     "name": "stdout",
     "output_type": "stream",
     "text": [
      "MoviePy - Writing audio in ./data/audio_label_clip/negative\\negative_42.wav\n",
      "MoviePy - Done.\n",
      "완료됬습니다.\n",
      "file name:LorCnNdgW-o_11\n",
      "read new file\n"
     ]
    },
    {
     "name": "stderr",
     "output_type": "stream",
     "text": [
      "chunk:   0%|          | 0/52 [00:00<?, ?it/s, now=None]"
     ]
    },
    {
     "name": "stdout",
     "output_type": "stream",
     "text": [
      "   start     end  label\n",
      "0  30.42  32.759      0\n",
      "30.42 32.759 0\n",
      "MoviePy - Writing audio in ./data/audio_label_clip/negative\\negative_43.wav\n"
     ]
    },
    {
     "name": "stderr",
     "output_type": "stream",
     "text": [
      "chunk:   0%|          | 0/56 [00:00<?, ?it/s, now=None]        "
     ]
    },
    {
     "name": "stdout",
     "output_type": "stream",
     "text": [
      "MoviePy - Done.\n",
      "완료됬습니다.\n",
      "file name:LorCnNdgW-o_12\n",
      "read new file\n",
      "    start    end  label\n",
      "0  32.759  35.28      0\n",
      "32.759 35.28 0\n",
      "MoviePy - Writing audio in ./data/audio_label_clip/negative\\negative_44.wav\n"
     ]
    },
    {
     "name": "stderr",
     "output_type": "stream",
     "text": [
      "chunk:   0%|          | 0/38 [00:00<?, ?it/s, now=None]        "
     ]
    },
    {
     "name": "stdout",
     "output_type": "stream",
     "text": [
      "MoviePy - Done.\n",
      "완료됬습니다.\n",
      "file name:LorCnNdgW-o_13\n",
      "read new file\n",
      "   start    end  label\n",
      "0  35.28  36.96      0\n",
      "35.28 36.96 0\n",
      "MoviePy - Writing audio in ./data/audio_label_clip/negative\\negative_45.wav\n"
     ]
    },
    {
     "name": "stderr",
     "output_type": "stream",
     "text": [
      "chunk:   0%|          | 0/56 [00:00<?, ?it/s, now=None]          "
     ]
    },
    {
     "name": "stdout",
     "output_type": "stream",
     "text": [
      "MoviePy - Done.\n",
      "완료됬습니다.\n",
      "file name:LorCnNdgW-o_14\n",
      "read new file\n",
      "   start    end  label\n",
      "0  36.96  39.48      0\n",
      "36.96 39.48 0\n",
      "MoviePy - Writing audio in ./data/audio_label_clip/negative\\negative_46.wav\n"
     ]
    },
    {
     "name": "stderr",
     "output_type": "stream",
     "text": [
      "                                                                 \r"
     ]
    },
    {
     "name": "stdout",
     "output_type": "stream",
     "text": [
      "MoviePy - Done.\n",
      "완료됬습니다.\n",
      "file name:LorCnNdgW-o_15\n",
      "read new file\n",
      "   start    end  label\n",
      "0  39.48  42.32      0\n",
      "39.48 42.32 0\n",
      "MoviePy - Writing audio in ./data/audio_label_clip/negative\\negative_47.wav"
     ]
    },
    {
     "name": "stderr",
     "output_type": "stream",
     "text": [
      "                                                                 "
     ]
    },
    {
     "name": "stdout",
     "output_type": "stream",
     "text": [
      "\n",
      "MoviePy - Done.\n",
      "완료됬습니다.\n",
      "file name:LorCnNdgW-o_16\n",
      "read new file\n",
      "    start   end  label\n",
      "0  43.739  45.5      0\n",
      "43.739 45.5 0\n"
     ]
    },
    {
     "name": "stderr",
     "output_type": "stream",
     "text": [
      "                                                                 "
     ]
    },
    {
     "name": "stdout",
     "output_type": "stream",
     "text": [
      "MoviePy - Writing audio in ./data/audio_label_clip/negative\\negative_48.wav\n",
      "MoviePy - Done.\n",
      "완료됬습니다.\n",
      "file name:LorCnNdgW-o_17\n",
      "read new file\n",
      "   start     end  label\n",
      "0   45.5  47.879      0\n",
      "45.5 47.879 0\n"
     ]
    },
    {
     "name": "stderr",
     "output_type": "stream",
     "text": [
      "                                                                 "
     ]
    },
    {
     "name": "stdout",
     "output_type": "stream",
     "text": [
      "MoviePy - Writing audio in ./data/audio_label_clip/negative\\negative_49.wav\n",
      "MoviePy - Done.\n",
      "완료됬습니다.\n",
      "file name:LorCnNdgW-o_18\n",
      "read new file\n",
      "   start   end  label\n",
      "0   48.6  49.3     12\n",
      "48.6 49.3 12\n"
     ]
    },
    {
     "name": "stderr",
     "output_type": "stream",
     "text": [
      "                                                       "
     ]
    },
    {
     "name": "stdout",
     "output_type": "stream",
     "text": [
      "MoviePy - Writing audio in ./data/audio_label_clip/activate\\sha_4.wav\n",
      "MoviePy - Done.\n",
      "완료됬습니다.\n",
      "file name:LorCnNdgW-o_19\n",
      "read new file\n",
      "   start    end  label\n",
      "0   49.8  50.64      0\n",
      "49.8 50.64 0\n"
     ]
    },
    {
     "name": "stderr",
     "output_type": "stream",
     "text": [
      "                                                       "
     ]
    },
    {
     "name": "stdout",
     "output_type": "stream",
     "text": [
      "MoviePy - Writing audio in ./data/audio_label_clip/negative\\negative_50.wav\n",
      "MoviePy - Done.\n",
      "완료됬습니다.\n",
      "file name:LorCnNdgW-o_2\n",
      "read new file\n",
      "   start   end  label\n",
      "0   6.12  7.44      0\n",
      "6.12 7.44 0\n"
     ]
    },
    {
     "name": "stderr",
     "output_type": "stream",
     "text": [
      "                                                       "
     ]
    },
    {
     "name": "stdout",
     "output_type": "stream",
     "text": [
      "MoviePy - Writing audio in ./data/audio_label_clip/negative\\negative_51.wav\n",
      "MoviePy - Done.\n",
      "완료됬습니다.\n",
      "file name:LorCnNdgW-o_20\n",
      "read new file\n",
      "   start    end  label\n",
      "0  50.64  52.68      0\n",
      "50.64 52.68 0\n"
     ]
    },
    {
     "name": "stderr",
     "output_type": "stream",
     "text": [
      "                                                                 "
     ]
    },
    {
     "name": "stdout",
     "output_type": "stream",
     "text": [
      "MoviePy - Writing audio in ./data/audio_label_clip/negative\\negative_52.wav\n",
      "MoviePy - Done.\n",
      "완료됬습니다.\n",
      "file name:LorCnNdgW-o_21\n",
      "read new file\n",
      "   start    end  label\n",
      "0  52.68  55.26      0\n",
      "52.68 55.26 0\n"
     ]
    },
    {
     "name": "stderr",
     "output_type": "stream",
     "text": [
      "                                                                 "
     ]
    },
    {
     "name": "stdout",
     "output_type": "stream",
     "text": [
      "MoviePy - Writing audio in ./data/audio_label_clip/negative\\negative_53.wav\n",
      "MoviePy - Done.\n",
      "완료됬습니다.\n",
      "file name:LorCnNdgW-o_22\n",
      "read new file\n",
      "   start   end  label\n",
      "0   55.1  56.3     10\n",
      "55.1 56.3 10\n"
     ]
    },
    {
     "name": "stderr",
     "output_type": "stream",
     "text": [
      "                                                               "
     ]
    },
    {
     "name": "stdout",
     "output_type": "stream",
     "text": [
      "MoviePy - Writing audio in ./data/audio_label_clip/activate\\shi_13.wav\n",
      "MoviePy - Done.\n",
      "완료됬습니다.\n",
      "file name:LorCnNdgW-o_3\n",
      "read new file\n",
      "   start    end  label\n",
      "0   7.44  10.32      0\n",
      "7.44 10.32 0\n"
     ]
    },
    {
     "name": "stderr",
     "output_type": "stream",
     "text": [
      "                                                       "
     ]
    },
    {
     "name": "stdout",
     "output_type": "stream",
     "text": [
      "MoviePy - Writing audio in ./data/audio_label_clip/negative\\negative_54.wav\n",
      "MoviePy - Done.\n",
      "완료됬습니다.\n",
      "file name:LorCnNdgW-o_4\n",
      "read new file\n",
      "   start    end  label\n",
      "0  10.32  12.54      0\n",
      "10.32 12.54 0\n"
     ]
    },
    {
     "name": "stderr",
     "output_type": "stream",
     "text": [
      "                                                       "
     ]
    },
    {
     "name": "stdout",
     "output_type": "stream",
     "text": [
      "MoviePy - Writing audio in ./data/audio_label_clip/negative\\negative_55.wav\n",
      "MoviePy - Done.\n",
      "완료됬습니다.\n",
      "file name:LorCnNdgW-o_5\n",
      "read new file\n",
      "   start     end  label\n",
      "0  12.54  15.719      0\n",
      "12.54 15.719 0\n"
     ]
    },
    {
     "name": "stderr",
     "output_type": "stream",
     "text": [
      "                                                       "
     ]
    },
    {
     "name": "stdout",
     "output_type": "stream",
     "text": [
      "MoviePy - Writing audio in ./data/audio_label_clip/negative\\negative_56.wav\n",
      "MoviePy - Done.\n",
      "완료됬습니다.\n",
      "file name:LorCnNdgW-o_6\n",
      "read new file\n",
      "    start     end  label\n",
      "0  15.719  18.539      0\n",
      "15.719 18.539 0\n"
     ]
    },
    {
     "name": "stderr",
     "output_type": "stream",
     "text": [
      "                                                       "
     ]
    },
    {
     "name": "stdout",
     "output_type": "stream",
     "text": [
      "MoviePy - Writing audio in ./data/audio_label_clip/negative\\negative_57.wav\n",
      "MoviePy - Done.\n",
      "완료됬습니다.\n",
      "file name:LorCnNdgW-o_7\n",
      "read new file\n",
      "    start     end  label\n",
      "0  18.539  21.539      0\n",
      "18.539 21.539 0\n"
     ]
    },
    {
     "name": "stderr",
     "output_type": "stream",
     "text": [
      "                                                       "
     ]
    },
    {
     "name": "stdout",
     "output_type": "stream",
     "text": [
      "MoviePy - Writing audio in ./data/audio_label_clip/negative\\negative_58.wav\n",
      "MoviePy - Done.\n",
      "완료됬습니다.\n",
      "file name:LorCnNdgW-o_8\n",
      "read new file\n",
      "   start   end  label\n",
      "0  23.22  25.4      0\n",
      "23.22 25.4 0\n"
     ]
    },
    {
     "name": "stderr",
     "output_type": "stream",
     "text": [
      "                                                       "
     ]
    },
    {
     "name": "stdout",
     "output_type": "stream",
     "text": [
      "MoviePy - Writing audio in ./data/audio_label_clip/negative\\negative_59.wav\n",
      "MoviePy - Done.\n",
      "완료됬습니다.\n",
      "file name:LorCnNdgW-o_9\n",
      "read new file\n",
      "   start    end  label\n",
      "0  28.32  29.22      0\n",
      "28.32 29.22 0\n"
     ]
    },
    {
     "name": "stderr",
     "output_type": "stream",
     "text": [
      "                                                       "
     ]
    },
    {
     "name": "stdout",
     "output_type": "stream",
     "text": [
      "MoviePy - Writing audio in ./data/audio_label_clip/negative\\negative_60.wav\n",
      "MoviePy - Done.\n",
      "완료됬습니다.\n",
      "file name:LrekzFRtIPI_0 copy\n",
      "file name:LrekzFRtIPI_0\n",
      "read new file\n",
      "   start   end  label\n",
      "0   6.72  10.2      0\n",
      "6.72 10.2 0\n"
     ]
    },
    {
     "name": "stderr",
     "output_type": "stream",
     "text": [
      "                                                       "
     ]
    },
    {
     "name": "stdout",
     "output_type": "stream",
     "text": [
      "MoviePy - Writing audio in ./data/audio_label_clip/negative\\negative_61.wav\n",
      "MoviePy - Done.\n",
      "완료됬습니다.\n",
      "file name:LrekzFRtIPI_1 copy\n",
      "file name:LrekzFRtIPI_1\n",
      "read new file\n",
      "   start     end  label\n",
      "0   10.2  12.179      0\n",
      "10.2 12.179 0\n"
     ]
    },
    {
     "name": "stderr",
     "output_type": "stream",
     "text": [
      "                                                       "
     ]
    },
    {
     "name": "stdout",
     "output_type": "stream",
     "text": [
      "MoviePy - Writing audio in ./data/audio_label_clip/negative\\negative_62.wav\n",
      "MoviePy - Done.\n",
      "완료됬습니다.\n",
      "file name:LrekzFRtIPI_10 copy\n",
      "file name:LrekzFRtIPI_10\n",
      "read new file\n",
      "   start    end  label\n",
      "0  38.65  39.65     10\n",
      "38.65 39.65 10\n"
     ]
    },
    {
     "name": "stderr",
     "output_type": "stream",
     "text": [
      "                                                                 "
     ]
    },
    {
     "name": "stdout",
     "output_type": "stream",
     "text": [
      "MoviePy - Writing audio in ./data/audio_label_clip/activate\\shi_14.wav\n",
      "MoviePy - Done.\n",
      "완료됬습니다.\n",
      "file name:LrekzFRtIPI_11 copy\n",
      "file name:LrekzFRtIPI_11\n",
      "read new file\n",
      "    start    end  label\n",
      "0  41.579  43.98      0\n",
      "41.579 43.98 0\n"
     ]
    },
    {
     "name": "stderr",
     "output_type": "stream",
     "text": [
      "                                                                 "
     ]
    },
    {
     "name": "stdout",
     "output_type": "stream",
     "text": [
      "MoviePy - Writing audio in ./data/audio_label_clip/negative\\negative_63.wav\n",
      "MoviePy - Done.\n",
      "완료됬습니다.\n",
      "file name:LrekzFRtIPI_12\n",
      "read new file\n",
      "   start    end  label\n",
      "0  43.98  48.14      0\n",
      "43.98 48.14 0\n"
     ]
    },
    {
     "name": "stderr",
     "output_type": "stream",
     "text": [
      "                                                                 "
     ]
    },
    {
     "name": "stdout",
     "output_type": "stream",
     "text": [
      "MoviePy - Writing audio in ./data/audio_label_clip/negative\\negative_64.wav\n",
      "MoviePy - Done.\n",
      "완료됬습니다.\n",
      "file name:LrekzFRtIPI_13\n",
      "read new file\n",
      "    start    end  label\n",
      "0  50.219  52.64      0\n",
      "50.219 52.64 0\n"
     ]
    },
    {
     "name": "stderr",
     "output_type": "stream",
     "text": [
      "                                                                 "
     ]
    },
    {
     "name": "stdout",
     "output_type": "stream",
     "text": [
      "MoviePy - Writing audio in ./data/audio_label_clip/negative\\negative_65.wav\n",
      "MoviePy - Done.\n",
      "완료됬습니다.\n",
      "file name:LrekzFRtIPI_2 copy\n",
      "file name:LrekzFRtIPI_2\n",
      "read new file\n",
      "    start     end  label\n",
      "0  12.179  14.519      0\n",
      "12.179 14.519 0\n"
     ]
    },
    {
     "name": "stderr",
     "output_type": "stream",
     "text": [
      "                                                       "
     ]
    },
    {
     "name": "stdout",
     "output_type": "stream",
     "text": [
      "MoviePy - Writing audio in ./data/audio_label_clip/negative\\negative_66.wav\n",
      "MoviePy - Done.\n",
      "완료됬습니다.\n",
      "file name:LrekzFRtIPI_3 copy\n",
      "file name:LrekzFRtIPI_3\n",
      "read new file\n",
      "    start     end  label\n",
      "0  14.519  16.759      0\n",
      "14.519 16.759 0\n"
     ]
    },
    {
     "name": "stderr",
     "output_type": "stream",
     "text": [
      "                                                       "
     ]
    },
    {
     "name": "stdout",
     "output_type": "stream",
     "text": [
      "MoviePy - Writing audio in ./data/audio_label_clip/negative\\negative_67.wav\n",
      "MoviePy - Done.\n",
      "완료됬습니다.\n",
      "file name:LrekzFRtIPI_4 copy\n",
      "file name:LrekzFRtIPI_4\n",
      "read new file\n",
      "   start    end  label\n",
      "0  17.94  21.32      0\n",
      "17.94 21.32 0\n"
     ]
    },
    {
     "name": "stderr",
     "output_type": "stream",
     "text": [
      "                                                       "
     ]
    },
    {
     "name": "stdout",
     "output_type": "stream",
     "text": [
      "MoviePy - Writing audio in ./data/audio_label_clip/negative\\negative_68.wav\n",
      "MoviePy - Done.\n",
      "완료됬습니다.\n",
      "file name:LrekzFRtIPI_5 copy\n",
      "file name:LrekzFRtIPI_5\n",
      "read new file\n",
      "   start     end  label\n",
      "0  27.68  30.359      0\n",
      "27.68 30.359 0\n"
     ]
    },
    {
     "name": "stderr",
     "output_type": "stream",
     "text": [
      "                                                       "
     ]
    },
    {
     "name": "stdout",
     "output_type": "stream",
     "text": [
      "MoviePy - Writing audio in ./data/audio_label_clip/negative\\negative_69.wav\n",
      "MoviePy - Done.\n",
      "완료됬습니다.\n",
      "file name:LrekzFRtIPI_6 copy\n",
      "file name:LrekzFRtIPI_6\n",
      "read new file\n",
      "    start    end  label\n",
      "0  30.359  32.22      0\n",
      "30.359 32.22 0\n"
     ]
    },
    {
     "name": "stderr",
     "output_type": "stream",
     "text": [
      "                                                                 "
     ]
    },
    {
     "name": "stdout",
     "output_type": "stream",
     "text": [
      "MoviePy - Writing audio in ./data/audio_label_clip/negative\\negative_70.wav\n",
      "MoviePy - Done.\n",
      "완료됬습니다.\n",
      "file name:LrekzFRtIPI_7 copy\n",
      "file name:LrekzFRtIPI_7\n",
      "read new file\n",
      "   start    end  label\n",
      "0  32.22  36.18      0\n",
      "32.22 36.18 0\n"
     ]
    },
    {
     "name": "stderr",
     "output_type": "stream",
     "text": [
      "                                                                 "
     ]
    },
    {
     "name": "stdout",
     "output_type": "stream",
     "text": [
      "MoviePy - Writing audio in ./data/audio_label_clip/negative\\negative_71.wav\n",
      "MoviePy - Done.\n",
      "완료됬습니다.\n",
      "file name:LrekzFRtIPI_8 copy\n",
      "file name:LrekzFRtIPI_8\n",
      "read new file\n",
      "   start    end  label\n",
      "0  36.18  38.18      0\n",
      "36.18 38.18 0\n"
     ]
    },
    {
     "name": "stderr",
     "output_type": "stream",
     "text": [
      "                                                                 "
     ]
    },
    {
     "name": "stdout",
     "output_type": "stream",
     "text": [
      "MoviePy - Writing audio in ./data/audio_label_clip/negative\\negative_72.wav\n",
      "MoviePy - Done.\n",
      "완료됬습니다.\n",
      "file name:LrekzFRtIPI_9 copy\n",
      "file name:LrekzFRtIPI_9\n",
      "read new file\n",
      "   start   end  label\n",
      "0  37.21  38.3     10\n",
      "37.21 38.3 10\n"
     ]
    },
    {
     "name": "stderr",
     "output_type": "stream",
     "text": [
      "                                                                 "
     ]
    },
    {
     "name": "stdout",
     "output_type": "stream",
     "text": [
      "MoviePy - Writing audio in ./data/audio_label_clip/activate\\shi_15.wav\n",
      "MoviePy - Done.\n",
      "완료됬습니다.\n",
      "file name:m9S_0_pbah4_0\n",
      "read new file\n",
      "   start  end  label\n",
      "0   3.14  8.0      0\n",
      "3.14 8.0 0\n"
     ]
    },
    {
     "name": "stderr",
     "output_type": "stream",
     "text": [
      "                                                                    "
     ]
    },
    {
     "name": "stdout",
     "output_type": "stream",
     "text": [
      "MoviePy - Writing audio in ./data/audio_label_clip/negative\\negative_73.wav\n",
      "MoviePy - Done.\n",
      "완료됬습니다.\n",
      "file name:m9S_0_pbah4_1\n",
      "read new file\n",
      "   start  end  label\n",
      "0    8.0  8.7      0\n",
      "8.0 8.7 0\n"
     ]
    },
    {
     "name": "stderr",
     "output_type": "stream",
     "text": [
      "                                                       "
     ]
    },
    {
     "name": "stdout",
     "output_type": "stream",
     "text": [
      "MoviePy - Writing audio in ./data/audio_label_clip/negative\\negative_74.wav\n",
      "MoviePy - Done.\n",
      "완료됬습니다.\n",
      "file name:m9S_0_pbah4_2\n",
      "read new file\n",
      "   start   end  label\n",
      "0    8.7  12.5     10\n",
      "8.7 12.5 10\n"
     ]
    },
    {
     "name": "stderr",
     "output_type": "stream",
     "text": [
      "                                                       "
     ]
    },
    {
     "name": "stdout",
     "output_type": "stream",
     "text": [
      "MoviePy - Writing audio in ./data/audio_label_clip/activate\\shi_16.wav\n",
      "MoviePy - Done.\n",
      "완료됬습니다.\n",
      "file name:m9S_0_pbah4_3\n",
      "read new file\n",
      "   start   end  label\n",
      "0   12.5  16.0     12\n",
      "12.5 16.0 12\n"
     ]
    },
    {
     "name": "stderr",
     "output_type": "stream",
     "text": [
      "                                                       "
     ]
    },
    {
     "name": "stdout",
     "output_type": "stream",
     "text": [
      "MoviePy - Writing audio in ./data/audio_label_clip/activate\\sha_5.wav\n",
      "MoviePy - Done.\n",
      "완료됬습니다.\n",
      "file name:mESuNWbW5Co_0\n",
      "read new file\n",
      "   start    end  label\n",
      "0   0.49  1.319      8\n",
      "0.49 1.319 8\n"
     ]
    },
    {
     "name": "stderr",
     "output_type": "stream",
     "text": [
      "\r"
     ]
    },
    {
     "name": "stdout",
     "output_type": "stream",
     "text": [
      "file name:mESuNWbW5Co_1\n",
      "read new file\n",
      "   start   end  label\n",
      "0  1.319  3.24      0\n",
      "1.319 3.24 0\n",
      "MoviePy - Writing audio in ./data/audio_label_clip/negative\\negative_75.wav\n"
     ]
    },
    {
     "name": "stderr",
     "output_type": "stream",
     "text": [
      "                                                       \r"
     ]
    },
    {
     "name": "stdout",
     "output_type": "stream",
     "text": [
      "MoviePy - Done.\n",
      "완료됬습니다.\n",
      "file name:mESuNWbW5Co_10\n",
      "read new file\n",
      "   start    end  label\n",
      "0  35.48  36.14     12\n",
      "35.48 36.14 12\n",
      "MoviePy - Writing audio in ./data/audio_label_clip/activate\\sha_6.wav\n"
     ]
    },
    {
     "name": "stderr",
     "output_type": "stream",
     "text": [
      "                                                               \r"
     ]
    },
    {
     "name": "stdout",
     "output_type": "stream",
     "text": [
      "MoviePy - Done.\n",
      "완료됬습니다.\n",
      "file name:mESuNWbW5Co_11\n",
      "read new file\n",
      "   start    end  label\n",
      "0  38.16  40.44      0\n",
      "38.16 40.44 0\n",
      "MoviePy - Writing audio in ./data/audio_label_clip/negative\\negative_76.wav\n"
     ]
    },
    {
     "name": "stderr",
     "output_type": "stream",
     "text": [
      "chunk:   0%|          | 0/97 [00:00<?, ?it/s, now=None]        "
     ]
    },
    {
     "name": "stdout",
     "output_type": "stream",
     "text": [
      "MoviePy - Done.\n",
      "완료됬습니다.\n",
      "file name:mESuNWbW5Co_12\n",
      "read new file\n",
      "   start    end  label\n",
      "0  40.44  44.82      0\n",
      "40.44 44.82 0\n",
      "MoviePy - Writing audio in ./data/audio_label_clip/negative\\negative_77.wav\n"
     ]
    },
    {
     "name": "stderr",
     "output_type": "stream",
     "text": [
      "                                                                 \r"
     ]
    },
    {
     "name": "stdout",
     "output_type": "stream",
     "text": [
      "MoviePy - Done.\n",
      "완료됬습니다.\n",
      "file name:mESuNWbW5Co_2\n",
      "read new file\n",
      "   start  end  label\n",
      "0   3.24  5.4      0\n",
      "3.24 5.4 0\n",
      "MoviePy - Writing audio in ./data/audio_label_clip/negative\\negative_78.wav\n"
     ]
    },
    {
     "name": "stderr",
     "output_type": "stream",
     "text": [
      "                                                       \r"
     ]
    },
    {
     "name": "stdout",
     "output_type": "stream",
     "text": [
      "MoviePy - Done.\n",
      "완료됬습니다.\n",
      "file name:mESuNWbW5Co_3\n",
      "read new file\n",
      "   start   end  label\n",
      "0    5.4  7.76      0\n",
      "5.4 7.76 0\n",
      "MoviePy - Writing audio in ./data/audio_label_clip/negative\\negative_79.wav\n"
     ]
    },
    {
     "name": "stderr",
     "output_type": "stream",
     "text": [
      "                                                                 \r"
     ]
    },
    {
     "name": "stdout",
     "output_type": "stream",
     "text": [
      "MoviePy - Done.\n",
      "완료됬습니다.\n",
      "file name:mESuNWbW5Co_4\n",
      "read new file\n",
      "   start    end  label\n",
      "0   7.76  10.08      0\n",
      "7.76 10.08 0\n",
      "MoviePy - Writing audio in ./data/audio_label_clip/negative\\negative_80.wav\n"
     ]
    },
    {
     "name": "stderr",
     "output_type": "stream",
     "text": [
      "                                                       \r"
     ]
    },
    {
     "name": "stdout",
     "output_type": "stream",
     "text": [
      "MoviePy - Done.\n",
      "완료됬습니다.\n",
      "file name:mESuNWbW5Co_5\n",
      "read new file\n",
      "   start    end  label\n",
      "0  10.08  14.42      0\n",
      "10.08 14.42 0\n",
      "MoviePy - Writing audio in ./data/audio_label_clip/negative\\negative_81.wav"
     ]
    },
    {
     "name": "stderr",
     "output_type": "stream",
     "text": [
      "                                                                 "
     ]
    },
    {
     "name": "stdout",
     "output_type": "stream",
     "text": [
      "\n",
      "MoviePy - Done.\n",
      "완료됬습니다.\n",
      "file name:mESuNWbW5Co_6\n",
      "read new file\n",
      "   start     end  label\n",
      "0   17.1  20.229      8\n",
      "17.1 20.229 8\n"
     ]
    },
    {
     "name": "stderr",
     "output_type": "stream",
     "text": [
      "\r"
     ]
    },
    {
     "name": "stdout",
     "output_type": "stream",
     "text": [
      "file name:mESuNWbW5Co_7\n",
      "read new file\n",
      "   start   end  label\n",
      "0  24.93  28.3      8\n",
      "24.93 28.3 8\n",
      "file name:mESuNWbW5Co_8\n",
      "read new file\n",
      "   start    end  label\n",
      "0  31.64  33.36      0"
     ]
    },
    {
     "name": "stderr",
     "output_type": "stream",
     "text": [
      "chunk:   0%|          | 0/38 [00:00<?, ?it/s, now=None]"
     ]
    },
    {
     "name": "stdout",
     "output_type": "stream",
     "text": [
      "\n",
      "31.64 33.36 0\n",
      "MoviePy - Writing audio in ./data/audio_label_clip/negative\\negative_82.wav\n"
     ]
    },
    {
     "name": "stderr",
     "output_type": "stream",
     "text": [
      "chunk:   0%|          | 0/45 [00:00<?, ?it/s, now=None]        "
     ]
    },
    {
     "name": "stdout",
     "output_type": "stream",
     "text": [
      "MoviePy - Done.\n",
      "완료됬습니다.\n",
      "file name:mESuNWbW5Co_9\n",
      "read new file\n",
      "   start     end  label\n",
      "0  33.36  35.399      0\n",
      "33.36 35.399 0\n",
      "MoviePy - Writing audio in ./data/audio_label_clip/negative\\negative_83.wav\n"
     ]
    },
    {
     "name": "stderr",
     "output_type": "stream",
     "text": [
      "                                                               \r"
     ]
    },
    {
     "name": "stdout",
     "output_type": "stream",
     "text": [
      "MoviePy - Done.\n",
      "완료됬습니다.\n",
      "file name:mhPNdIT5SdE_0\n",
      "read new file\n",
      "   start     end  label\n",
      "0   2.04  10.219      0\n",
      "2.04 10.219 0\n",
      "MoviePy - Writing audio in ./data/audio_label_clip/negative\\negative_84.wav"
     ]
    },
    {
     "name": "stderr",
     "output_type": "stream",
     "text": [
      "                                                                    "
     ]
    },
    {
     "name": "stdout",
     "output_type": "stream",
     "text": [
      "\n",
      "MoviePy - Done.\n",
      "완료됬습니다.\n",
      "file name:mhPNdIT5SdE_1\n",
      "read new file\n",
      "    start    end  label\n",
      "0  10.219  12.54      0\n",
      "10.219 12.54 0\n"
     ]
    },
    {
     "name": "stderr",
     "output_type": "stream",
     "text": [
      "                                                       "
     ]
    },
    {
     "name": "stdout",
     "output_type": "stream",
     "text": [
      "MoviePy - Writing audio in ./data/audio_label_clip/negative\\negative_85.wav\n",
      "MoviePy - Done.\n",
      "완료됬습니다.\n",
      "file name:mhPNdIT5SdE_10\n",
      "read new file\n",
      "   start    end  label\n",
      "0  48.42  53.52      0\n",
      "48.42 53.52 0\n"
     ]
    },
    {
     "name": "stderr",
     "output_type": "stream",
     "text": [
      "                                                                  "
     ]
    },
    {
     "name": "stdout",
     "output_type": "stream",
     "text": [
      "MoviePy - Writing audio in ./data/audio_label_clip/negative\\negative_86.wav\n",
      "MoviePy - Done.\n",
      "완료됬습니다.\n",
      "file name:mhPNdIT5SdE_11\n",
      "read new file\n",
      "   start   end  label\n",
      "0  53.52  54.0      0\n",
      "53.52 54.0 0\n"
     ]
    },
    {
     "name": "stderr",
     "output_type": "stream",
     "text": [
      "                                                       "
     ]
    },
    {
     "name": "stdout",
     "output_type": "stream",
     "text": [
      "MoviePy - Writing audio in ./data/audio_label_clip/negative\\negative_87.wav\n",
      "MoviePy - Done.\n",
      "완료됬습니다.\n",
      "file name:mhPNdIT5SdE_2\n",
      "read new file\n",
      "   start    end  label\n",
      "0  12.54  16.32      0\n",
      "12.54 16.32 0\n"
     ]
    },
    {
     "name": "stderr",
     "output_type": "stream",
     "text": [
      "                                                       "
     ]
    },
    {
     "name": "stdout",
     "output_type": "stream",
     "text": [
      "MoviePy - Writing audio in ./data/audio_label_clip/negative\\negative_88.wav\n",
      "MoviePy - Done.\n",
      "완료됬습니다.\n",
      "file name:mhPNdIT5SdE_3\n",
      "read new file\n",
      "   start    end  label\n",
      "0  16.32  19.26      0\n",
      "16.32 19.26 0\n"
     ]
    },
    {
     "name": "stderr",
     "output_type": "stream",
     "text": [
      "                                                       "
     ]
    },
    {
     "name": "stdout",
     "output_type": "stream",
     "text": [
      "MoviePy - Writing audio in ./data/audio_label_clip/negative\\negative_89.wav\n",
      "MoviePy - Done.\n",
      "완료됬습니다.\n",
      "file name:mhPNdIT5SdE_4\n",
      "read new file\n",
      "   start   end  label\n",
      "0  19.26  21.9      0\n",
      "19.26 21.9 0\n"
     ]
    },
    {
     "name": "stderr",
     "output_type": "stream",
     "text": [
      "                                                       "
     ]
    },
    {
     "name": "stdout",
     "output_type": "stream",
     "text": [
      "MoviePy - Writing audio in ./data/audio_label_clip/negative\\negative_90.wav\n",
      "MoviePy - Done.\n",
      "완료됬습니다.\n",
      "file name:mhPNdIT5SdE_5\n",
      "read new file\n",
      "   start   end  label\n",
      "0   21.9  25.1      0\n",
      "21.9 25.1 0\n"
     ]
    },
    {
     "name": "stderr",
     "output_type": "stream",
     "text": [
      "                                                       "
     ]
    },
    {
     "name": "stdout",
     "output_type": "stream",
     "text": [
      "MoviePy - Writing audio in ./data/audio_label_clip/negative\\negative_91.wav\n",
      "MoviePy - Done.\n",
      "완료됬습니다.\n",
      "file name:mhPNdIT5SdE_6\n",
      "read new file\n",
      "   start     end  label\n",
      "0   25.1  29.599      0\n",
      "25.1 29.599 0\n"
     ]
    },
    {
     "name": "stderr",
     "output_type": "stream",
     "text": [
      "                                                                  "
     ]
    },
    {
     "name": "stdout",
     "output_type": "stream",
     "text": [
      "MoviePy - Writing audio in ./data/audio_label_clip/negative\\negative_92.wav\n",
      "MoviePy - Done.\n",
      "완료됬습니다.\n",
      "file name:mhPNdIT5SdE_7\n",
      "read new file\n",
      "    start    end  label\n",
      "0  29.599  45.48      0\n",
      "29.599 45.48 0\n"
     ]
    },
    {
     "name": "stderr",
     "output_type": "stream",
     "text": [
      "chunk:   1%|          | 2/351 [00:00<00:18, 18.69it/s, now=None]"
     ]
    },
    {
     "name": "stdout",
     "output_type": "stream",
     "text": [
      "MoviePy - Writing audio in ./data/audio_label_clip/negative\\negative_93.wav\n"
     ]
    },
    {
     "name": "stderr",
     "output_type": "stream",
     "text": [
      "                                                                  \r"
     ]
    },
    {
     "name": "stdout",
     "output_type": "stream",
     "text": [
      "MoviePy - Done.\n",
      "완료됬습니다.\n",
      "file name:mhPNdIT5SdE_8\n",
      "read new file\n",
      "   start    end  label\n",
      "0  45.48  46.25     10\n",
      "45.48 46.25 10\n"
     ]
    },
    {
     "name": "stderr",
     "output_type": "stream",
     "text": [
      "                                                               "
     ]
    },
    {
     "name": "stdout",
     "output_type": "stream",
     "text": [
      "MoviePy - Writing audio in ./data/audio_label_clip/activate\\shi_17.wav\n",
      "MoviePy - Done.\n",
      "완료됬습니다.\n",
      "file name:mhPNdIT5SdE_9\n",
      "read new file\n",
      "   start    end  label\n",
      "0  46.25  48.42     12\n",
      "46.25 48.42 12\n"
     ]
    },
    {
     "name": "stderr",
     "output_type": "stream",
     "text": [
      "                                                               "
     ]
    },
    {
     "name": "stdout",
     "output_type": "stream",
     "text": [
      "MoviePy - Writing audio in ./data/audio_label_clip/activate\\sha_7.wav\n",
      "MoviePy - Done.\n",
      "완료됬습니다.\n",
      "file name:MS3OADFiWVs_0\n",
      "read new file\n",
      "   start   end  label\n",
      "0   3.68  4.22     10\n",
      "3.68 4.22 10\n"
     ]
    },
    {
     "name": "stderr",
     "output_type": "stream",
     "text": [
      "                                                       "
     ]
    },
    {
     "name": "stdout",
     "output_type": "stream",
     "text": [
      "MoviePy - Writing audio in ./data/audio_label_clip/activate\\shi_18.wav\n",
      "MoviePy - Done.\n",
      "완료됬습니다.\n",
      "file name:MS3OADFiWVs_1\n",
      "read new file\n",
      "   start    end  label\n",
      "0   4.22  6.839      0\n",
      "4.22 6.839 0\n"
     ]
    },
    {
     "name": "stderr",
     "output_type": "stream",
     "text": [
      "                                                       "
     ]
    },
    {
     "name": "stdout",
     "output_type": "stream",
     "text": [
      "MoviePy - Writing audio in ./data/audio_label_clip/negative\\negative_94.wav\n",
      "MoviePy - Done.\n",
      "완료됬습니다.\n",
      "file name:MS3OADFiWVs_10\n",
      "read new file\n",
      "   start    end  label\n",
      "0  33.44  33.73     10\n",
      "33.44 33.73 10\n"
     ]
    },
    {
     "name": "stderr",
     "output_type": "stream",
     "text": [
      "                                                      "
     ]
    },
    {
     "name": "stdout",
     "output_type": "stream",
     "text": [
      "MoviePy - Writing audio in ./data/audio_label_clip/activate\\shi_19.wav\n",
      "MoviePy - Done.\n",
      "완료됬습니다.\n",
      "file name:MS3OADFiWVs_11\n",
      "read new file\n",
      "   start    end  label\n",
      "0  33.73  35.91     11\n",
      "33.73 35.91 11\n"
     ]
    },
    {
     "name": "stderr",
     "output_type": "stream",
     "text": [
      "                                                                 "
     ]
    },
    {
     "name": "stdout",
     "output_type": "stream",
     "text": [
      "MoviePy - Writing audio in ./data/audio_label_clip/activate\\jon_0.wav\n",
      "MoviePy - Done.\n",
      "완료됬습니다.\n",
      "file name:MS3OADFiWVs_12\n",
      "read new file\n",
      "   start    end  label\n",
      "0  35.91  42.54     10\n",
      "35.91 42.54 10\n"
     ]
    },
    {
     "name": "stderr",
     "output_type": "stream",
     "text": [
      "                                                                  "
     ]
    },
    {
     "name": "stdout",
     "output_type": "stream",
     "text": [
      "MoviePy - Writing audio in ./data/audio_label_clip/activate\\shi_20.wav\n",
      "MoviePy - Done.\n",
      "완료됬습니다.\n",
      "file name:MS3OADFiWVs_13\n",
      "read new file\n",
      "   start     end  label\n",
      "0  42.54  44.219      0"
     ]
    },
    {
     "name": "stderr",
     "output_type": "stream",
     "text": [
      "\r"
     ]
    },
    {
     "name": "stdout",
     "output_type": "stream",
     "text": [
      "\n",
      "42.54 44.219 0\n"
     ]
    },
    {
     "name": "stderr",
     "output_type": "stream",
     "text": [
      "                                                               "
     ]
    },
    {
     "name": "stdout",
     "output_type": "stream",
     "text": [
      "MoviePy - Writing audio in ./data/audio_label_clip/negative\\negative_95.wav\n",
      "MoviePy - Done.\n",
      "완료됬습니다.\n",
      "file name:MS3OADFiWVs_2\n",
      "read new file\n",
      "   start   end  label\n",
      "0  6.839  9.34      0"
     ]
    },
    {
     "name": "stderr",
     "output_type": "stream",
     "text": [
      "\r"
     ]
    },
    {
     "name": "stdout",
     "output_type": "stream",
     "text": [
      "\n",
      "6.839 9.34 0\n",
      "MoviePy - Writing audio in ./data/audio_label_clip/negative\\negative_96.wav"
     ]
    },
    {
     "name": "stderr",
     "output_type": "stream",
     "text": [
      "                                                       "
     ]
    },
    {
     "name": "stdout",
     "output_type": "stream",
     "text": [
      "\n",
      "MoviePy - Done.\n",
      "완료됬습니다.\n",
      "file name:MS3OADFiWVs_3\n",
      "read new file\n",
      "   start   end  label\n",
      "0   9.34  9.51     10\n",
      "9.34 9.51 10\n"
     ]
    },
    {
     "name": "stderr",
     "output_type": "stream",
     "text": [
      "                                                      "
     ]
    },
    {
     "name": "stdout",
     "output_type": "stream",
     "text": [
      "MoviePy - Writing audio in ./data/audio_label_clip/activate\\shi_21.wav\n",
      "MoviePy - Done.\n",
      "완료됬습니다.\n",
      "file name:MS3OADFiWVs_4\n",
      "read new file\n",
      "   start   end  label\n",
      "0   9.51  12.5     12\n",
      "9.51 12.5 12\n"
     ]
    },
    {
     "name": "stderr",
     "output_type": "stream",
     "text": [
      "                                                                 "
     ]
    },
    {
     "name": "stdout",
     "output_type": "stream",
     "text": [
      "MoviePy - Writing audio in ./data/audio_label_clip/activate\\sha_8.wav\n",
      "MoviePy - Done.\n",
      "완료됬습니다.\n",
      "file name:MS3OADFiWVs_5\n",
      "read new file\n",
      "   start     end  label\n",
      "0   12.5  14.759     11\n",
      "12.5 14.759 11\n"
     ]
    },
    {
     "name": "stderr",
     "output_type": "stream",
     "text": [
      "                                                       "
     ]
    },
    {
     "name": "stdout",
     "output_type": "stream",
     "text": [
      "MoviePy - Writing audio in ./data/audio_label_clip/activate\\jon_1.wav\n",
      "MoviePy - Done.\n",
      "완료됬습니다.\n",
      "file name:MS3OADFiWVs_6\n",
      "read new file\n",
      "    start   end  label\n",
      "0  14.759  24.7      0\n",
      "14.759 24.7 0\n"
     ]
    },
    {
     "name": "stderr",
     "output_type": "stream",
     "text": [
      "                                                                  "
     ]
    },
    {
     "name": "stdout",
     "output_type": "stream",
     "text": [
      "MoviePy - Writing audio in ./data/audio_label_clip/negative\\negative_97.wav\n",
      "MoviePy - Done."
     ]
    },
    {
     "name": "stderr",
     "output_type": "stream",
     "text": [
      "\r"
     ]
    },
    {
     "name": "stdout",
     "output_type": "stream",
     "text": [
      "\n",
      "완료됬습니다.\n",
      "file name:MS3OADFiWVs_7\n",
      "read new file\n",
      "   start     end  label\n",
      "0   24.7  25.199     12\n",
      "24.7 25.199 12\n",
      "MoviePy - Writing audio in ./data/audio_label_clip/activate\\sha_9.wav\n"
     ]
    },
    {
     "name": "stderr",
     "output_type": "stream",
     "text": [
      "                                                       \r"
     ]
    },
    {
     "name": "stdout",
     "output_type": "stream",
     "text": [
      "MoviePy - Done.\n",
      "완료됬습니다.\n",
      "file name:MS3OADFiWVs_8\n",
      "read new file\n",
      "    start    end  label\n",
      "0  25.199  29.58      0\n",
      "25.199 29.58 0\n",
      "MoviePy - Writing audio in ./data/audio_label_clip/negative\\negative_98.wav\n"
     ]
    },
    {
     "name": "stderr",
     "output_type": "stream",
     "text": [
      "chunk:   0%|          | 0/86 [00:00<?, ?it/s, now=None]          "
     ]
    },
    {
     "name": "stdout",
     "output_type": "stream",
     "text": [
      "MoviePy - Done.\n",
      "완료됬습니다.\n",
      "file name:MS3OADFiWVs_9\n",
      "read new file\n",
      "   start    end  label\n",
      "0  29.58  33.44     12\n",
      "29.58 33.44 12\n",
      "MoviePy - Writing audio in ./data/audio_label_clip/activate\\sha_10.wav\n"
     ]
    },
    {
     "name": "stderr",
     "output_type": "stream",
     "text": [
      "                                                               "
     ]
    },
    {
     "name": "stdout",
     "output_type": "stream",
     "text": [
      "MoviePy - Done.\n",
      "완료됬습니다.\n"
     ]
    },
    {
     "name": "stderr",
     "output_type": "stream",
     "text": [
      "\r"
     ]
    }
   ],
   "source": [
    "audio = []\n",
    "label = []\n",
    "#라벨링\n",
    "shi = 0\n",
    "jon = 0\n",
    "sha = 0\n",
    "byoung = 0\n",
    "sang = 0 \n",
    "do = 0\n",
    "mi = 0\n",
    "gae = 0\n",
    "jot = 0\n",
    "background = 0\n",
    "negative = 0\n",
    "count = 0\n",
    "x = 0\n",
    "\n",
    "# 이제 욕 추가될때마다 여기 counter 디렉터리에 추가해주면 됨\n",
    "counter = {\n",
    "    10: shi,\n",
    "    11: jon,\n",
    "    12: sha,\n",
    "    13: byoung,\n",
    "    14: do,\n",
    "    15: sang,\n",
    "    16: mi,\n",
    "    17: gae,\n",
    "    18: jot,\n",
    "    8: x,\n",
    "    9: background,\n",
    "    0: negative\n",
    "}\n",
    "\n",
    "for file in files:\n",
    "    try: \n",
    "        print(\"file name:\" + file)\n",
    "        text = './data/label_3/' + file + \".txt\"\n",
    "        aud = './data/label_3/' + file + \".wav\"\n",
    "        # 정규표현식 패턴\n",
    "        pattern = r\"^(.*?)_\\d+$\"\n",
    "        # 정규표현식 매칭\n",
    "        match = re.match(pattern, file)\n",
    "        raw_aud = './data/audio/' + str(match.group(1)) + \".wav\"\n",
    "\n",
    "        print(\"read new file\")\n",
    "        data = pd.read_csv(text, sep=\"\\t\", names=['start', 'end', 'label'])\n",
    "        print(data)\n",
    "        for i in range(len(data)):\n",
    "            lab = data.label[i]\n",
    "            print(data.start[i], data.end[i], data.label[i])\n",
    "            try:\n",
    "                start = float(data.start[i])\n",
    "                end = float(data.end[i])\n",
    "            except ValueError:\n",
    "                continue\n",
    "            if start >= end:\n",
    "                continue\n",
    "            if np.isnan(lab):\n",
    "                continue\n",
    "            full_audio = AudioFileClip(raw_aud)\n",
    "\n",
    "            # 각 라벨 이름 정의\n",
    "            lab_name = {\n",
    "                10: \"shi\",\n",
    "                11: \"jon\",\n",
    "                12: \"sha\",\n",
    "                13: \"byoung\",\n",
    "                14: \"do\",\n",
    "                15: \"sang\",\n",
    "                16: \"mi\",\n",
    "                17: \"gae\",\n",
    "                18: \"jot\",\n",
    "                8: \"x\",\n",
    "                9: \"background\",\n",
    "                0: \"negative\"\n",
    "            }[lab]\n",
    "            \n",
    "            lab_counter = counter[lab]\n",
    "            name = f\"{lab_name}_{lab_counter}\"\n",
    "            counter[lab] += 1\n",
    "\n",
    "            tmp_audio = full_audio.subclip(start, end)\n",
    "            \n",
    "            #라벨에 맞게 디렉터리 경로 초기화해주고\n",
    "            if lab == 10 or lab == 11 or lab == 12 or lab == 13 or lab == 14 or lab == 15 or lab == 16 or lab == 17 or lab == 18:\n",
    "                directory = activate_dir\n",
    "            elif lab == 9:\n",
    "                directory = background_dir\n",
    "            elif lab == 0:\n",
    "                directory = negative_dir\n",
    "            else:\n",
    "                continue\n",
    "            # 라벨에 맞는 디렉터리에 저장\n",
    "            name = os.path.join(directory, name + \".wav\")\n",
    "            try:\n",
    "                tmp_audio.write_audiofile(name)\n",
    "            except OSError:\n",
    "                print('oserror')\n",
    "                continue\n",
    "                \n",
    "            audio.append(name)\n",
    "            label.append(int(lab))\n",
    "            print('완료됬습니다.')\n",
    "        count += 1\n",
    "    except Exception as e:\n",
    "        pass\n",
    "\n",
    "save(audio, label)"
   ]
  }
 ],
 "metadata": {
  "kernelspec": {
   "display_name": "Beeeeep_2",
   "language": "python",
   "name": "python3"
  },
  "language_info": {
   "codemirror_mode": {
    "name": "ipython",
    "version": 3
   },
   "file_extension": ".py",
   "mimetype": "text/x-python",
   "name": "python",
   "nbconvert_exporter": "python",
   "pygments_lexer": "ipython3",
   "version": "3.7.16"
  }
 },
 "nbformat": 4,
 "nbformat_minor": 2
}
