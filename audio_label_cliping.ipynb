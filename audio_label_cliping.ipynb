{
 "cells": [
  {
   "cell_type": "code",
   "execution_count": 27,
   "metadata": {},
   "outputs": [],
   "source": [
    "## pip install moviepy==1.0.0\n",
    "\n",
    "import os\n",
    "import librosa\n",
    "import pandas as pd\n",
    "from moviepy.editor import *\n",
    "from tqdm import tqdm_notebook\n",
    "import numpy as np\n",
    "import re"
   ]
  },
  {
   "cell_type": "code",
   "execution_count": 28,
   "metadata": {},
   "outputs": [],
   "source": [
    "#from utils import make_dir\n",
    "def make_dir(dir_):\n",
    "    if not os.path.isdir(dir_):\n",
    "        os.mkdir(dir_)"
   ]
  },
  {
   "cell_type": "code",
   "execution_count": 29,
   "metadata": {},
   "outputs": [],
   "source": [
    "background_dir = './data/audio_label_clip/background'  # 배경 디렉터리 경로\n",
    "os.makedirs(background_dir, exist_ok=True)  # 배경 디렉터리 생성\n",
    "\n",
    "activate_dir = './data/audio_label_clip/activate'  # 배경 디렉터리 경로\n",
    "os.makedirs(activate_dir, exist_ok=True)  # 배경 디렉터리 생성\n",
    "\n",
    "negative_dir = './data/audio_label_clip/negative'  # 배경 디렉터리 경로\n",
    "os.makedirs(negative_dir, exist_ok=True)  # 배경 디렉터리 생성"
   ]
  },
  {
   "cell_type": "code",
   "execution_count": 30,
   "metadata": {},
   "outputs": [],
   "source": [
    "audio_label_clip_dir = os.path.join('.', 'data', 'audio_label_clip')\n",
    "make_dir(audio_label_clip_dir)"
   ]
  },
  {
   "cell_type": "code",
   "execution_count": 31,
   "metadata": {},
   "outputs": [],
   "source": [
    "def save(audios, label):\n",
    "    data = pd.DataFrame({\n",
    "        'audios':audios, 'label':label })\n",
    "    data.to_csv(audio_label_clip_dir+'/audio_label_clip.csv', index=False, encoding='euc-kr')"
   ]
  },
  {
   "cell_type": "code",
   "execution_count": 32,
   "metadata": {},
   "outputs": [
    {
     "name": "stdout",
     "output_type": "stream",
     "text": [
      "['bGFkdfYPPAo_0', 'bGFkdfYPPAo_1', 'bGFkdfYPPAo_10', 'bGFkdfYPPAo_11', 'bGFkdfYPPAo_12', 'bGFkdfYPPAo_13', 'bGFkdfYPPAo_14', 'bGFkdfYPPAo_15', 'bGFkdfYPPAo_16', 'bGFkdfYPPAo_17', 'bGFkdfYPPAo_18', 'bGFkdfYPPAo_2', 'bGFkdfYPPAo_3', 'bGFkdfYPPAo_4', 'bGFkdfYPPAo_5', 'bGFkdfYPPAo_6', 'bGFkdfYPPAo_7', 'bGFkdfYPPAo_8', 'bGFkdfYPPAo_9']\n"
     ]
    }
   ],
   "source": [
    "## 레이블링 데이터 위치 : ./data/label\n",
    "files = []\n",
    "for file in os.listdir(os.path.join('.', 'data', 'label')):\n",
    "    _, file_id = os.path.split(file)\n",
    "    if file_id.endswith('txt'):\n",
    "        name = file_id.split(\".\")[0]\n",
    "        if(name not in files):\n",
    "            files.append(name)\n",
    "\n",
    "background_dir = './data/audio_label_clip/background'  # 배경 디렉터리 경로\n",
    "os.makedirs(background_dir, exist_ok=True)  # 배경 디렉터리 생성\n",
    "\n",
    "activate_dir = './data/audio_label_clip/activate'  # 배경 디렉터리 경로\n",
    "os.makedirs(activate_dir, exist_ok=True)  # 배경 디렉터리 생성\n",
    "\n",
    "negative_dir = './data/audio_label_clip/negative'  # 배경 디렉터리 경로\n",
    "os.makedirs(negative_dir, exist_ok=True)  # 배경 디렉터리 생성print(files)"
   ]
  },
  {
   "cell_type": "code",
   "execution_count": 34,
   "metadata": {
    "scrolled": true
   },
   "outputs": [
    {
     "name": "stderr",
     "output_type": "stream",
     "text": [
      "                                                       "
     ]
    },
    {
     "name": "stdout",
     "output_type": "stream",
     "text": [
      "file name:bGFkdfYPPAo_0\n",
      "read new file\n",
      "   start  end  label\n",
      "0  0.539  3.6     12\n",
      "0.539 3.6 12\n",
      "MoviePy - Writing audio in ./data/audio_label_clip/activate\\sha_0.wav\n",
      "oserror\n",
      "file name:bGFkdfYPPAo_1\n",
      "read new file\n",
      "   start   end  label\n",
      "0    3.6  4.62      0\n",
      "3.6 4.62 0\n",
      "MoviePy - Writing audio in ./data/audio_label_clip/negative\\negative_0.wav"
     ]
    },
    {
     "name": "stderr",
     "output_type": "stream",
     "text": [
      "Exception ignored in: <function FFMPEG_AudioWriter.__del__ at 0x000002461FBCD708>\n",
      "Traceback (most recent call last):\n",
      "  File \"c:\\Users\\Administrator\\AppData\\Local\\Programs\\Python\\Python37\\lib\\site-packages\\moviepy\\audio\\io\\ffmpeg_audiowriter.py\", line 132, in __del__\n",
      "    self.close()\n",
      "  File \"c:\\Users\\Administrator\\AppData\\Local\\Programs\\Python\\Python37\\lib\\site-packages\\moviepy\\audio\\io\\ffmpeg_audiowriter.py\", line 121, in close\n",
      "    self.proc.stdin.close()\n",
      "OSError: [Errno 22] Invalid argument\n",
      "                                                       "
     ]
    },
    {
     "name": "stdout",
     "output_type": "stream",
     "text": [
      "\n",
      "MoviePy - Done.\n",
      "완료됬습니다.\n",
      "file name:bGFkdfYPPAo_10\n",
      "read new file\n",
      "    start    end  label\n",
      "0  25.439  26.88      0\n",
      "25.439 26.88 0\n",
      "MoviePy - Writing audio in ./data/audio_label_clip/negative\\negative_1.wav\n",
      "oserror\n",
      "file name:bGFkdfYPPAo_11\n",
      "read new file\n",
      "   start    end  label\n",
      "0  26.88  27.96      0\n",
      "26.88 27.96 0\n"
     ]
    },
    {
     "name": "stderr",
     "output_type": "stream",
     "text": [
      "Exception ignored in: <function FFMPEG_AudioWriter.__del__ at 0x000002461FBCD708>\n",
      "Traceback (most recent call last):\n",
      "  File \"c:\\Users\\Administrator\\AppData\\Local\\Programs\\Python\\Python37\\lib\\site-packages\\moviepy\\audio\\io\\ffmpeg_audiowriter.py\", line 132, in __del__\n",
      "    self.close()\n",
      "  File \"c:\\Users\\Administrator\\AppData\\Local\\Programs\\Python\\Python37\\lib\\site-packages\\moviepy\\audio\\io\\ffmpeg_audiowriter.py\", line 121, in close\n",
      "    self.proc.stdin.close()\n",
      "OSError: [Errno 22] Invalid argument\n",
      "                                                       \r"
     ]
    },
    {
     "name": "stdout",
     "output_type": "stream",
     "text": [
      "MoviePy - Writing audio in ./data/audio_label_clip/negative\\negative_2.wav\n",
      "MoviePy - Done.\n",
      "완료됬습니다.\n",
      "file name:bGFkdfYPPAo_12\n",
      "read new file\n",
      "   start     end  label\n",
      "0  27.96  28.859     12\n",
      "27.96 28.859 12\n",
      "MoviePy - Writing audio in ./data/audio_label_clip/activate\\sha_1.wav\n",
      "MoviePy - Done.\n",
      "완료됬습니다.\n",
      "file name:bGFkdfYPPAo_13\n",
      "read new file\n",
      "    start     end  label\n",
      "0  28.859  30.119      0\n",
      "28.859 30.119 0\n"
     ]
    },
    {
     "name": "stderr",
     "output_type": "stream",
     "text": [
      "Exception ignored in: <function FFMPEG_AudioWriter.__del__ at 0x000002461FBCD708>\n",
      "Traceback (most recent call last):\n",
      "  File \"c:\\Users\\Administrator\\AppData\\Local\\Programs\\Python\\Python37\\lib\\site-packages\\moviepy\\audio\\io\\ffmpeg_audiowriter.py\", line 132, in __del__\n",
      "    self.close()\n",
      "  File \"c:\\Users\\Administrator\\AppData\\Local\\Programs\\Python\\Python37\\lib\\site-packages\\moviepy\\audio\\io\\ffmpeg_audiowriter.py\", line 121, in close\n",
      "    self.proc.stdin.close()\n",
      "OSError: [Errno 22] Invalid argument\n",
      "chunk:   0%|          | 0/52 [00:00<?, ?it/s, now=None]"
     ]
    },
    {
     "name": "stdout",
     "output_type": "stream",
     "text": [
      "MoviePy - Writing audio in ./data/audio_label_clip/negative\\negative_3.wav\n",
      "oserror\n",
      "file name:bGFkdfYPPAo_14\n",
      "read new file\n",
      "    start    end  label\n",
      "0  30.119  32.46     12\n",
      "30.119 32.46 12\n",
      "MoviePy - Writing audio in ./data/audio_label_clip/activate\\sha_2.wav\n",
      "oserror"
     ]
    },
    {
     "name": "stderr",
     "output_type": "stream",
     "text": [
      "Exception ignored in: <function FFMPEG_AudioWriter.__del__ at 0x000002461FBCD708>\n",
      "Traceback (most recent call last):\n",
      "  File \"c:\\Users\\Administrator\\AppData\\Local\\Programs\\Python\\Python37\\lib\\site-packages\\moviepy\\audio\\io\\ffmpeg_audiowriter.py\", line 132, in __del__\n",
      "    self.close()\n",
      "  File \"c:\\Users\\Administrator\\AppData\\Local\\Programs\\Python\\Python37\\lib\\site-packages\\moviepy\\audio\\io\\ffmpeg_audiowriter.py\", line 121, in close\n",
      "    self.proc.stdin.close()\n",
      "OSError: [Errno 22] Invalid argument\n",
      "Exception ignored in: <function FFMPEG_AudioWriter.__del__ at 0x000002461FBCD708>\n",
      "Traceback (most recent call last):\n",
      "  File \"c:\\Users\\Administrator\\AppData\\Local\\Programs\\Python\\Python37\\lib\\site-packages\\moviepy\\audio\\io\\ffmpeg_audiowriter.py\", line 132, in __del__\n",
      "    self.close()\n",
      "  File \"c:\\Users\\Administrator\\AppData\\Local\\Programs\\Python\\Python37\\lib\\site-packages\\moviepy\\audio\\io\\ffmpeg_audiowriter.py\", line 121, in close\n",
      "    self.proc.stdin.close()\n",
      "OSError: [Errno 22] Invalid argument\n"
     ]
    },
    {
     "name": "stdout",
     "output_type": "stream",
     "text": [
      "\n",
      "file name:bGFkdfYPPAo_15\n",
      "read new file\n",
      "   start     end  label\n",
      "0  32.46  37.079     12\n",
      "32.46 37.079 12\n",
      "MoviePy - Writing audio in ./data/audio_label_clip/activate\\sha_3.wav\n",
      "oserror\n",
      "file name:bGFkdfYPPAo_16\n",
      "read new file\n",
      "    start    end  label\n",
      "0  37.079  39.54      9\n",
      "37.079 39.54 9\n",
      "MoviePy - Writing audio in ./data/audio_label_clip/background\\background_0.wav"
     ]
    },
    {
     "name": "stderr",
     "output_type": "stream",
     "text": [
      "Exception ignored in: <function FFMPEG_AudioWriter.__del__ at 0x000002461FBCD708>\n",
      "Traceback (most recent call last):\n",
      "  File \"c:\\Users\\Administrator\\AppData\\Local\\Programs\\Python\\Python37\\lib\\site-packages\\moviepy\\audio\\io\\ffmpeg_audiowriter.py\", line 132, in __del__\n",
      "    self.close()\n",
      "  File \"c:\\Users\\Administrator\\AppData\\Local\\Programs\\Python\\Python37\\lib\\site-packages\\moviepy\\audio\\io\\ffmpeg_audiowriter.py\", line 121, in close\n",
      "    self.proc.stdin.close()\n",
      "OSError: [Errno 22] Invalid argument\n",
      "Exception ignored in: <function FFMPEG_AudioWriter.__del__ at 0x000002461FBCD708>\n",
      "Traceback (most recent call last):\n",
      "  File \"c:\\Users\\Administrator\\AppData\\Local\\Programs\\Python\\Python37\\lib\\site-packages\\moviepy\\audio\\io\\ffmpeg_audiowriter.py\", line 132, in __del__\n",
      "    self.close()\n",
      "  File \"c:\\Users\\Administrator\\AppData\\Local\\Programs\\Python\\Python37\\lib\\site-packages\\moviepy\\audio\\io\\ffmpeg_audiowriter.py\", line 121, in close\n",
      "    self.proc.stdin.close()\n",
      "OSError: [Errno 22] Invalid argument\n"
     ]
    },
    {
     "name": "stdout",
     "output_type": "stream",
     "text": [
      "\n",
      "oserror\n",
      "file name:bGFkdfYPPAo_17\n",
      "read new file\n",
      "   start    end  label\n",
      "0  39.54  41.34      0\n",
      "39.54 41.34 0\n",
      "MoviePy - Writing audio in ./data/audio_label_clip/negative\\negative_4.wav\n",
      "oserror\n",
      "file name:bGFkdfYPPAo_18\n",
      "read new file\n",
      "   start   end  label\n",
      "0  41.34  43.0      0\n",
      "41.34 43.0 0\n"
     ]
    },
    {
     "name": "stderr",
     "output_type": "stream",
     "text": [
      "Exception ignored in: <function FFMPEG_AudioWriter.__del__ at 0x000002461FBCD708>\n",
      "Traceback (most recent call last):\n",
      "  File \"c:\\Users\\Administrator\\AppData\\Local\\Programs\\Python\\Python37\\lib\\site-packages\\moviepy\\audio\\io\\ffmpeg_audiowriter.py\", line 132, in __del__\n",
      "    self.close()\n",
      "  File \"c:\\Users\\Administrator\\AppData\\Local\\Programs\\Python\\Python37\\lib\\site-packages\\moviepy\\audio\\io\\ffmpeg_audiowriter.py\", line 121, in close\n",
      "    self.proc.stdin.close()\n",
      "OSError: [Errno 22] Invalid argument\n",
      "chunk:   0%|          | 0/32 [00:00<?, ?it/s, now=None]"
     ]
    },
    {
     "name": "stdout",
     "output_type": "stream",
     "text": [
      "MoviePy - Writing audio in ./data/audio_label_clip/negative\\negative_5.wav\n",
      "oserror\n",
      "file name:bGFkdfYPPAo_2\n",
      "read new file\n",
      "   start   end  label\n",
      "0   4.62  6.06      0\n",
      "4.62 6.06 0\n",
      "MoviePy - Writing audio in ./data/audio_label_clip/negative\\negative_6.wav\n",
      "oserror"
     ]
    },
    {
     "name": "stderr",
     "output_type": "stream",
     "text": [
      "Exception ignored in: <function FFMPEG_AudioWriter.__del__ at 0x000002461FBCD708>\n",
      "Traceback (most recent call last):\n",
      "  File \"c:\\Users\\Administrator\\AppData\\Local\\Programs\\Python\\Python37\\lib\\site-packages\\moviepy\\audio\\io\\ffmpeg_audiowriter.py\", line 132, in __del__\n",
      "    self.close()\n",
      "  File \"c:\\Users\\Administrator\\AppData\\Local\\Programs\\Python\\Python37\\lib\\site-packages\\moviepy\\audio\\io\\ffmpeg_audiowriter.py\", line 121, in close\n",
      "    self.proc.stdin.close()\n",
      "OSError: [Errno 22] Invalid argument\n",
      "Exception ignored in: <function FFMPEG_AudioWriter.__del__ at 0x000002461FBCD708>\n",
      "Traceback (most recent call last):\n",
      "  File \"c:\\Users\\Administrator\\AppData\\Local\\Programs\\Python\\Python37\\lib\\site-packages\\moviepy\\audio\\io\\ffmpeg_audiowriter.py\", line 132, in __del__\n",
      "    self.close()\n",
      "  File \"c:\\Users\\Administrator\\AppData\\Local\\Programs\\Python\\Python37\\lib\\site-packages\\moviepy\\audio\\io\\ffmpeg_audiowriter.py\", line 121, in close\n",
      "    self.proc.stdin.close()\n",
      "OSError: [Errno 22] Invalid argument\n"
     ]
    },
    {
     "name": "stdout",
     "output_type": "stream",
     "text": [
      "\n",
      "file name:bGFkdfYPPAo_3\n",
      "read new file\n",
      "   start  end  label\n",
      "0   6.06  7.7      0\n",
      "6.06 7.7 0\n",
      "MoviePy - Writing audio in ./data/audio_label_clip/negative\\negative_7.wav\n",
      "oserror\n",
      "file name:bGFkdfYPPAo_4\n",
      "read new file\n",
      "   start    end  label\n",
      "0    7.7  10.44      0\n",
      "7.7 10.44 0\n"
     ]
    },
    {
     "name": "stderr",
     "output_type": "stream",
     "text": [
      "Exception ignored in: <function FFMPEG_AudioWriter.__del__ at 0x000002461FBCD708>\n",
      "Traceback (most recent call last):\n",
      "  File \"c:\\Users\\Administrator\\AppData\\Local\\Programs\\Python\\Python37\\lib\\site-packages\\moviepy\\audio\\io\\ffmpeg_audiowriter.py\", line 132, in __del__\n",
      "    self.close()\n",
      "  File \"c:\\Users\\Administrator\\AppData\\Local\\Programs\\Python\\Python37\\lib\\site-packages\\moviepy\\audio\\io\\ffmpeg_audiowriter.py\", line 121, in close\n",
      "    self.proc.stdin.close()\n",
      "OSError: [Errno 22] Invalid argument\n",
      "Exception ignored in: <function FFMPEG_AudioWriter.__del__ at 0x000002461FBCD708>\n",
      "Traceback (most recent call last):\n",
      "  File \"c:\\Users\\Administrator\\AppData\\Local\\Programs\\Python\\Python37\\lib\\site-packages\\moviepy\\audio\\io\\ffmpeg_audiowriter.py\", line 132, in __del__\n",
      "    self.close()\n",
      "  File \"c:\\Users\\Administrator\\AppData\\Local\\Programs\\Python\\Python37\\lib\\site-packages\\moviepy\\audio\\io\\ffmpeg_audiowriter.py\", line 121, in close\n",
      "    self.proc.stdin.close()\n",
      "OSError: [Errno 22] Invalid argument\n"
     ]
    },
    {
     "name": "stdout",
     "output_type": "stream",
     "text": [
      "MoviePy - Writing audio in ./data/audio_label_clip/negative\\negative_8.wav\n",
      "oserror\n",
      "file name:bGFkdfYPPAo_5\n",
      "read new file\n",
      "   start     end  label\n",
      "0  10.44  12.599      0\n",
      "10.44 12.599 0\n",
      "MoviePy - Writing audio in ./data/audio_label_clip/negative\\negative_9.wav\n",
      "oserror\n",
      "file name:bGFkdfYPPAo_6\n",
      "read new file\n",
      "    start     end  label\n",
      "0  12.599  15.719      0\n",
      "12.599 15.719 0\n"
     ]
    },
    {
     "name": "stderr",
     "output_type": "stream",
     "text": [
      "                                                       "
     ]
    },
    {
     "name": "stdout",
     "output_type": "stream",
     "text": [
      "MoviePy - Writing audio in ./data/audio_label_clip/negative\\negative_10.wav\n",
      "oserror\n",
      "file name:bGFkdfYPPAo_7\n",
      "read new file\n",
      "    start    end  label\n",
      "0  15.719  19.02      0\n",
      "15.719 19.02 0\n",
      "MoviePy - Writing audio in ./data/audio_label_clip/negative\\negative_11.wav"
     ]
    },
    {
     "name": "stderr",
     "output_type": "stream",
     "text": [
      "Exception ignored in: <function FFMPEG_AudioWriter.__del__ at 0x000002461FBCD708>\n",
      "Traceback (most recent call last):\n",
      "  File \"c:\\Users\\Administrator\\AppData\\Local\\Programs\\Python\\Python37\\lib\\site-packages\\moviepy\\audio\\io\\ffmpeg_audiowriter.py\", line 132, in __del__\n",
      "    self.close()\n",
      "  File \"c:\\Users\\Administrator\\AppData\\Local\\Programs\\Python\\Python37\\lib\\site-packages\\moviepy\\audio\\io\\ffmpeg_audiowriter.py\", line 121, in close\n",
      "    self.proc.stdin.close()\n",
      "OSError: [Errno 22] Invalid argument\n",
      "Exception ignored in: <function FFMPEG_AudioWriter.__del__ at 0x000002461FBCD708>\n",
      "Traceback (most recent call last):\n",
      "  File \"c:\\Users\\Administrator\\AppData\\Local\\Programs\\Python\\Python37\\lib\\site-packages\\moviepy\\audio\\io\\ffmpeg_audiowriter.py\", line 132, in __del__\n",
      "    self.close()\n",
      "  File \"c:\\Users\\Administrator\\AppData\\Local\\Programs\\Python\\Python37\\lib\\site-packages\\moviepy\\audio\\io\\ffmpeg_audiowriter.py\", line 121, in close\n",
      "    self.proc.stdin.close()\n",
      "OSError: [Errno 22] Invalid argument\n",
      "                                                       "
     ]
    },
    {
     "name": "stdout",
     "output_type": "stream",
     "text": [
      "\n",
      "oserror\n",
      "file name:bGFkdfYPPAo_8\n",
      "read new file\n",
      "   start    end  label\n",
      "0  19.02  22.14      0\n",
      "19.02 22.14 0\n",
      "MoviePy - Writing audio in ./data/audio_label_clip/negative\\negative_12.wav\n",
      "oserror\n",
      "file name:bGFkdfYPPAo_9\n",
      "read new file\n",
      "   start     end  label\n",
      "0  22.14  25.439     12\n",
      "22.14 25.439 12\n"
     ]
    },
    {
     "name": "stderr",
     "output_type": "stream",
     "text": [
      "Exception ignored in: <function FFMPEG_AudioWriter.__del__ at 0x000002461FBCD708>\n",
      "Traceback (most recent call last):\n",
      "  File \"c:\\Users\\Administrator\\AppData\\Local\\Programs\\Python\\Python37\\lib\\site-packages\\moviepy\\audio\\io\\ffmpeg_audiowriter.py\", line 132, in __del__\n",
      "    self.close()\n",
      "  File \"c:\\Users\\Administrator\\AppData\\Local\\Programs\\Python\\Python37\\lib\\site-packages\\moviepy\\audio\\io\\ffmpeg_audiowriter.py\", line 121, in close\n",
      "    self.proc.stdin.close()\n",
      "OSError: [Errno 22] Invalid argument\n",
      "                                                       "
     ]
    },
    {
     "name": "stdout",
     "output_type": "stream",
     "text": [
      "MoviePy - Writing audio in ./data/audio_label_clip/activate\\sha_4.wav\n",
      "oserror\n"
     ]
    },
    {
     "name": "stderr",
     "output_type": "stream",
     "text": [
      "Exception ignored in: <function FFMPEG_AudioWriter.__del__ at 0x000002461FBCD708>\n",
      "Traceback (most recent call last):\n",
      "  File \"c:\\Users\\Administrator\\AppData\\Local\\Programs\\Python\\Python37\\lib\\site-packages\\moviepy\\audio\\io\\ffmpeg_audiowriter.py\", line 132, in __del__\n",
      "    self.close()\n",
      "  File \"c:\\Users\\Administrator\\AppData\\Local\\Programs\\Python\\Python37\\lib\\site-packages\\moviepy\\audio\\io\\ffmpeg_audiowriter.py\", line 121, in close\n",
      "    self.proc.stdin.close()\n",
      "OSError: [Errno 22] Invalid argument\n"
     ]
    }
   ],
   "source": [
    "audio = []\n",
    "label = []\n",
    "shi = 0\n",
    "jon = 0\n",
    "sha = 0\n",
    "byoung = 0\n",
    "background = 0\n",
    "negative = 0\n",
    "count = 0\n",
    "\n",
    "counter = {\n",
    "    10: shi,\n",
    "    11: jon,\n",
    "    12: sha,\n",
    "    13: byoung,\n",
    "    9: background,\n",
    "    0: negative\n",
    "}\n",
    "\n",
    "for file in files:\n",
    "    print(\"file name:\" + file)\n",
    "    text = './data/label/' + file + \".txt\"\n",
    "    aud = './data/label/' + file + \".wav\"\n",
    "    # 정규표현식 패턴\n",
    "    pattern = r\"^(.*?)_\\d+$\"\n",
    "    # 정규표현식 매칭\n",
    "    match = re.match(pattern, file)\n",
    "    raw_aud = './data/audio/' + str(match.group(1)) + \".wav\"\n",
    "\n",
    "    print(\"read new file\")\n",
    "    data = pd.read_csv(text, sep=\"\\t\", names=['start', 'end', 'label'])\n",
    "    print(data)\n",
    "    for i in range(len(data)):\n",
    "        lab = data.label[i]\n",
    "        print(data.start[i], data.end[i], data.label[i])\n",
    "        try:\n",
    "            start = float(data.start[i])\n",
    "            end = float(data.end[i])\n",
    "        except ValueError:\n",
    "            continue\n",
    "        if start >= end:\n",
    "            continue\n",
    "        if np.isnan(lab):\n",
    "            continue\n",
    "        full_audio = AudioFileClip(raw_aud)\n",
    "        \n",
    "        lab_name = {\n",
    "            10: \"shi\",\n",
    "            11: \"jon\",\n",
    "            12: \"sha\",\n",
    "            13: \"byoung\",\n",
    "            9: \"background\",\n",
    "            0: \"negative\"\n",
    "        }[lab]\n",
    "        \n",
    "        lab_counter = counter[lab]\n",
    "        name = f\"{lab_name}_{lab_counter}\"\n",
    "        counter[lab] += 1\n",
    "\n",
    "        tmp_audio = full_audio.subclip(start, end)\n",
    "        \n",
    "        if lab == 10 or lab == 11 or lab == 12 or lab == 13:\n",
    "            directory = activate_dir\n",
    "        elif lab == 9:\n",
    "            directory = background_dir\n",
    "        elif lab == 0:\n",
    "            directory = negative_dir\n",
    "        else:\n",
    "            continue\n",
    "        \n",
    "        name = os.path.join(directory, name + \".wav\")\n",
    "        try:\n",
    "            tmp_audio.write_audiofile(name)\n",
    "        except OSError:\n",
    "            print('oserror')\n",
    "            continue\n",
    "            \n",
    "        audio.append(name)\n",
    "        label.append(int(lab))\n",
    "        print('완료됬습니다.')\n",
    "    count += 1\n",
    "\n",
    "save(audio, label)"
   ]
  },
  {
   "cell_type": "code",
   "execution_count": null,
   "metadata": {},
   "outputs": [],
   "source": []
  }
 ],
 "metadata": {
  "kernelspec": {
   "display_name": "Beeeeep_2",
   "language": "python",
   "name": "python3"
  },
  "language_info": {
   "codemirror_mode": {
    "name": "ipython",
    "version": 3
   },
   "file_extension": ".py",
   "mimetype": "text/x-python",
   "name": "python",
   "nbconvert_exporter": "python",
   "pygments_lexer": "ipython3",
   "version": "3.7.9"
  }
 },
 "nbformat": 4,
 "nbformat_minor": 2
}
