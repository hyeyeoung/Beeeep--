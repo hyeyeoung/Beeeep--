{
 "cells": [
  {
   "cell_type": "code",
   "execution_count": 1,
   "metadata": {},
   "outputs": [],
   "source": [
    "## pip install moviepy==1.0.0\n",
    "\n",
    "import os\n",
    "import librosa\n",
    "import pandas as pd\n",
    "from moviepy.editor import *\n",
    "from tqdm import tqdm_notebook\n",
    "import numpy as np\n",
    "import re"
   ]
  },
  {
   "cell_type": "code",
   "execution_count": 2,
   "metadata": {},
   "outputs": [],
   "source": [
    "#from utils import make_dir\n",
    "def make_dir(dir_):\n",
    "    if not os.path.isdir(dir_):\n",
    "        os.mkdir(dir_)"
   ]
  },
  {
   "cell_type": "code",
   "execution_count": 3,
   "metadata": {},
   "outputs": [],
   "source": [
    "background_dir = './data/audio_label_clip/background'  # 배경 디렉터리 경로\n",
    "os.makedirs(background_dir, exist_ok=True)  # 배경 디렉터리 생성\n",
    "\n",
    "activate_dir = './data/audio_label_clip/activate'  # 배경 디렉터리 경로\n",
    "os.makedirs(activate_dir, exist_ok=True)  # 배경 디렉터리 생성\n",
    "\n",
    "negative_dir = './data/audio_label_clip/negative'  # 배경 디렉터리 경로\n",
    "os.makedirs(negative_dir, exist_ok=True)  # 배경 디렉터리 생성"
   ]
  },
  {
   "cell_type": "code",
   "execution_count": 4,
   "metadata": {},
   "outputs": [],
   "source": [
    "audio_label_clip_dir = os.path.join('.', 'data', 'audio_label_clip')\n",
    "make_dir(audio_label_clip_dir)"
   ]
  },
  {
   "cell_type": "code",
   "execution_count": 5,
   "metadata": {},
   "outputs": [],
   "source": [
    "def save(audios, label):\n",
    "    data = pd.DataFrame({\n",
    "        'audios':audios, 'label':label })\n",
    "    data.to_csv(audio_label_clip_dir+'/audio_label_clip.csv', index=False, encoding='euc-kr')"
   ]
  },
  {
   "cell_type": "code",
   "execution_count": 6,
   "metadata": {},
   "outputs": [
    {
     "name": "stdout",
     "output_type": "stream",
     "text": [
      "['oZeVVcBgM_s_0', 'oZeVVcBgM_s_1', 'oZeVVcBgM_s_10', 'oZeVVcBgM_s_11', 'oZeVVcBgM_s_12', 'oZeVVcBgM_s_13', 'oZeVVcBgM_s_14', 'oZeVVcBgM_s_15', 'oZeVVcBgM_s_16', 'oZeVVcBgM_s_17', 'oZeVVcBgM_s_18', 'oZeVVcBgM_s_2', 'oZeVVcBgM_s_3', 'oZeVVcBgM_s_4', 'oZeVVcBgM_s_5', 'oZeVVcBgM_s_6', 'oZeVVcBgM_s_7', 'oZeVVcBgM_s_8', 'oZeVVcBgM_s_9']\n"
     ]
    }
   ],
   "source": [
    "## 레이블링 데이터 위치 : ./data/label\n",
    "files = []\n",
    "for file in os.listdir(os.path.join('.', 'data', 'label')):\n",
    "    _, file_id = os.path.split(file)\n",
    "    if file_id.endswith('txt'):\n",
    "        name = file_id.split(\".\")[0]\n",
    "        if(name not in files):\n",
    "            files.append(name)\n",
    "print(files)\n",
    "\n",
    "background_dir = './data/audio_label_clip/background'  # 배경 디렉터리 경로\n",
    "os.makedirs(background_dir, exist_ok=True)  # 배경 디렉터리 생성\n",
    "\n",
    "activate_dir = './data/audio_label_clip/activate'  # 배경 디렉터리 경로\n",
    "os.makedirs(activate_dir, exist_ok=True)  # 배경 디렉터리 생성\n",
    "\n",
    "negative_dir = './data/audio_label_clip/negative'  # 배경 디렉터리 경로\n",
    "os.makedirs(negative_dir, exist_ok=True)  # 배경 디렉터리 생성print(files)\n"
   ]
  },
  {
   "cell_type": "code",
   "execution_count": 7,
   "metadata": {},
   "outputs": [],
   "source": [
    "background_dir = './data/audio_label_clip_for_test/background'  # 배경 디렉터리 경로\n",
    "os.makedirs(background_dir, exist_ok=True)  # 배경 디렉터리 생성\n",
    "\n",
    "activate_dir = './data/audio_label_clip_for_test/activate'  # 배경 디렉터리 경로\n",
    "os.makedirs(activate_dir, exist_ok=True)  # 배경 디렉터리 생성\n",
    "\n",
    "negative_dir = './data/audio_label_clip_for_test/negative'  # 배경 디렉터리 경로\n",
    "os.makedirs(negative_dir, exist_ok=True)  # 배경 디렉터리 생성print(files)"
   ]
  },
  {
   "cell_type": "code",
   "execution_count": 8,
   "metadata": {
    "scrolled": true
   },
   "outputs": [
    {
     "name": "stderr",
     "output_type": "stream",
     "text": [
      "                                                       "
     ]
    },
    {
     "name": "stdout",
     "output_type": "stream",
     "text": [
      "file name:oZeVVcBgM_s_0\n",
      "read new file\n",
      "   start   end  label\n",
      "0  0.359  3.06      0\n",
      "0.359 3.06 0\n",
      "MoviePy - Writing audio in ./data/audio_label_clip_for_test/negative\\negative_0.wav\n",
      "MoviePy - Done.\n",
      "완료됬습니다.\n",
      "file name:oZeVVcBgM_s_1\n",
      "read new file\n",
      "   start   end  label\n",
      "0   3.06  7.08      0\n",
      "3.06 7.08 0\n"
     ]
    },
    {
     "name": "stderr",
     "output_type": "stream",
     "text": [
      "chunk:   0%|          | 0/23 [00:00<?, ?it/s, now=None]"
     ]
    },
    {
     "name": "stdout",
     "output_type": "stream",
     "text": [
      "MoviePy - Writing audio in ./data/audio_label_clip_for_test/negative\\negative_1.wav\n",
      "MoviePy - Done.\n",
      "완료됬습니다.\n",
      "file name:oZeVVcBgM_s_10\n",
      "read new file\n",
      "   start     end  label\n",
      "0   30.0  31.019      0\n",
      "30.0 31.019 0\n",
      "MoviePy - Writing audio in ./data/audio_label_clip_for_test/negative\\negative_2.wav\n"
     ]
    },
    {
     "name": "stderr",
     "output_type": "stream",
     "text": [
      "                                                       \r"
     ]
    },
    {
     "name": "stdout",
     "output_type": "stream",
     "text": [
      "MoviePy - Done.\n",
      "완료됬습니다.\n",
      "file name:oZeVVcBgM_s_11\n",
      "read new file\n",
      "    start   end  label\n",
      "0  31.019  32.7      0\n",
      "31.019 32.7 0\n",
      "MoviePy - Writing audio in ./data/audio_label_clip_for_test/negative\\negative_3.wav\n",
      "MoviePy - Done.\n",
      "완료됬습니다.\n",
      "file name:oZeVVcBgM_s_12\n",
      "read new file\n",
      "   start    end  label\n",
      "0   32.7  34.02      0\n",
      "32.7 34.02 0\n"
     ]
    },
    {
     "name": "stderr",
     "output_type": "stream",
     "text": [
      "                                                       \r"
     ]
    },
    {
     "name": "stdout",
     "output_type": "stream",
     "text": [
      "MoviePy - Writing audio in ./data/audio_label_clip_for_test/negative\\negative_4.wav\n",
      "MoviePy - Done.\n",
      "완료됬습니다.\n",
      "file name:oZeVVcBgM_s_13\n",
      "read new file\n",
      "   start   end  label\n",
      "0  34.02  35.1      0\n",
      "34.02 35.1 0\n",
      "MoviePy - Writing audio in ./data/audio_label_clip_for_test/negative\\negative_5.wav\n",
      "MoviePy - Done.\n",
      "완료됬습니다.\n",
      "file name:oZeVVcBgM_s_14\n",
      "read new file\n",
      "   start    end  label\n",
      "0   35.1  37.14      0\n",
      "35.1 37.14 0\n"
     ]
    },
    {
     "name": "stderr",
     "output_type": "stream",
     "text": [
      "                                                       "
     ]
    },
    {
     "name": "stdout",
     "output_type": "stream",
     "text": [
      "MoviePy - Writing audio in ./data/audio_label_clip_for_test/negative\\negative_6.wav\n",
      "MoviePy - Done.\n",
      "완료됬습니다.\n",
      "file name:oZeVVcBgM_s_15\n",
      "read new file\n",
      "   start    end  label\n",
      "0  37.14  38.48      0\n",
      "37.14 38.48 0\n",
      "MoviePy - Writing audio in ./data/audio_label_clip_for_test/negative\\negative_7.wav"
     ]
    },
    {
     "name": "stderr",
     "output_type": "stream",
     "text": [
      "chunk:   0%|          | 0/56 [00:00<?, ?it/s, now=None]"
     ]
    },
    {
     "name": "stdout",
     "output_type": "stream",
     "text": [
      "\n",
      "MoviePy - Done.\n",
      "완료됬습니다.\n",
      "file name:oZeVVcBgM_s_16\n",
      "read new file\n",
      "   start    end  label\n",
      "0  38.48  40.98      0\n",
      "38.48 40.98 0\n",
      "MoviePy - Writing audio in ./data/audio_label_clip_for_test/negative\\negative_8.wav\n"
     ]
    },
    {
     "name": "stderr",
     "output_type": "stream",
     "text": [
      "                                                       "
     ]
    },
    {
     "name": "stdout",
     "output_type": "stream",
     "text": [
      "MoviePy - Done.\n",
      "완료됬습니다.\n",
      "file name:oZeVVcBgM_s_17\n",
      "read new file\n",
      "   start    end  label\n",
      "0  40.98  44.16      0\n",
      "40.98 44.16 0\n",
      "MoviePy - Writing audio in ./data/audio_label_clip_for_test/negative\\negative_9.wav\n",
      "MoviePy - Done.\n",
      "완료됬습니다.\n",
      "file name:oZeVVcBgM_s_18\n",
      "read new file\n",
      "   start   end  label\n",
      "0  44.16  46.0      0\n",
      "44.16 46.0 0\n"
     ]
    },
    {
     "name": "stderr",
     "output_type": "stream",
     "text": [
      "                                                       "
     ]
    },
    {
     "name": "stdout",
     "output_type": "stream",
     "text": [
      "MoviePy - Writing audio in ./data/audio_label_clip_for_test/negative\\negative_10.wav\n",
      "MoviePy - Done.\n",
      "완료됬습니다.\n",
      "file name:oZeVVcBgM_s_2\n",
      "read new file\n",
      "   start    end  label\n",
      "0   7.08  10.44     11\n",
      "7.08 10.44 11\n",
      "MoviePy - Writing audio in ./data/audio_label_clip_for_test/activate\\jon_0.wav\n"
     ]
    },
    {
     "name": "stderr",
     "output_type": "stream",
     "text": [
      "                                                       \r"
     ]
    },
    {
     "name": "stdout",
     "output_type": "stream",
     "text": [
      "MoviePy - Done.\n",
      "완료됬습니다.\n",
      "file name:oZeVVcBgM_s_3\n",
      "read new file\n",
      "   start   end  label\n",
      "0  10.44  12.0      0\n",
      "10.44 12.0 0\n",
      "MoviePy - Writing audio in ./data/audio_label_clip_for_test/negative\\negative_11.wav\n",
      "MoviePy - Done.\n",
      "완료됬습니다.\n",
      "file name:oZeVVcBgM_s_4\n",
      "read new file\n",
      "   start   end  label\n",
      "0   12.0  13.7      9\n",
      "12.0 13.7 9\n"
     ]
    },
    {
     "name": "stderr",
     "output_type": "stream",
     "text": [
      "                                                       \r"
     ]
    },
    {
     "name": "stdout",
     "output_type": "stream",
     "text": [
      "MoviePy - Writing audio in ./data/audio_label_clip_for_test/background\\background_0.wav\n",
      "MoviePy - Done.\n",
      "완료됬습니다.\n",
      "file name:oZeVVcBgM_s_5\n",
      "read new file\n",
      "   start    end  label\n",
      "0   13.7  17.82      0\n",
      "13.7 17.82 0\n",
      "MoviePy - Writing audio in ./data/audio_label_clip_for_test/negative\\negative_12.wav\n",
      "MoviePy - Done.\n",
      "완료됬습니다.\n",
      "file name:oZeVVcBgM_s_6\n",
      "read new file\n",
      "   start    end  label\n",
      "0  17.82  21.04     12\n",
      "17.82 21.04 12\n"
     ]
    },
    {
     "name": "stderr",
     "output_type": "stream",
     "text": [
      "chunk:   0%|          | 0/53 [00:00<?, ?it/s, now=None]"
     ]
    },
    {
     "name": "stdout",
     "output_type": "stream",
     "text": [
      "MoviePy - Writing audio in ./data/audio_label_clip_for_test/activate\\sha_0.wav\n",
      "MoviePy - Done.\n",
      "완료됬습니다.\n",
      "file name:oZeVVcBgM_s_7\n",
      "read new file\n",
      "   start   end  label\n",
      "0  21.04  23.4      0\n",
      "21.04 23.4 0\n",
      "MoviePy - Writing audio in ./data/audio_label_clip_for_test/negative\\negative_13.wav\n"
     ]
    },
    {
     "name": "stderr",
     "output_type": "stream",
     "text": [
      "                                                       \r"
     ]
    },
    {
     "name": "stdout",
     "output_type": "stream",
     "text": [
      "MoviePy - Done.\n",
      "완료됬습니다.\n",
      "file name:oZeVVcBgM_s_8\n",
      "read new file\n",
      "   start     end  label\n",
      "0   23.4  25.199      0\n",
      "23.4 25.199 0\n",
      "MoviePy - Writing audio in ./data/audio_label_clip_for_test/negative\\negative_14.wav\n",
      "MoviePy - Done.\n",
      "완료됬습니다.\n",
      "file name:oZeVVcBgM_s_9\n",
      "read new file\n",
      "    start   end  label\n",
      "0  25.199  30.0      0\n",
      "25.199 30.0 0\n"
     ]
    },
    {
     "name": "stderr",
     "output_type": "stream",
     "text": [
      "                                                        "
     ]
    },
    {
     "name": "stdout",
     "output_type": "stream",
     "text": [
      "MoviePy - Writing audio in ./data/audio_label_clip_for_test/negative\\negative_15.wav\n",
      "MoviePy - Done.\n",
      "완료됬습니다.\n"
     ]
    },
    {
     "name": "stderr",
     "output_type": "stream",
     "text": [
      "\r"
     ]
    }
   ],
   "source": [
    "audio = []\n",
    "label = []\n",
    "#라벨링\n",
    "shi = 0\n",
    "jon = 0\n",
    "sha = 0\n",
    "byoung = 0\n",
    "sang = 0 \n",
    "do = 0\n",
    "mi = 0\n",
    "gae = 0\n",
    "background = 0\n",
    "negative = 0\n",
    "count = 0\n",
    "\n",
    "# 이제 욕 추가될때마다 여기 counter 디렉터리에 추가해주면 됨\n",
    "counter = {\n",
    "    10: shi,\n",
    "    11: jon,\n",
    "    12: sha,\n",
    "    13: byoung,\n",
    "    14: do,\n",
    "    15: sang,\n",
    "    16: mi,\n",
    "    17: gae,\n",
    "    9: background,\n",
    "    0: negative\n",
    "}\n",
    "\n",
    "for file in files:\n",
    "    print(\"file name:\" + file)\n",
    "    text = './data/label/' + file + \".txt\"\n",
    "    aud = './data/label/' + file + \".wav\"\n",
    "    # 정규표현식 패턴\n",
    "    pattern = r\"^(.*?)_\\d+$\"\n",
    "    # 정규표현식 매칭\n",
    "    match = re.match(pattern, file)\n",
    "    raw_aud = './data/audio/' + str(match.group(1)) + \".wav\"\n",
    "\n",
    "    print(\"read new file\")\n",
    "    data = pd.read_csv(text, sep=\"\\t\", names=['start', 'end', 'label'])\n",
    "    print(data)\n",
    "    for i in range(len(data)):\n",
    "        lab = data.label[i]\n",
    "        print(data.start[i], data.end[i], data.label[i])\n",
    "        try:\n",
    "            start = float(data.start[i])\n",
    "            end = float(data.end[i])\n",
    "        except ValueError:\n",
    "            continue\n",
    "        if start >= end:\n",
    "            continue\n",
    "        if np.isnan(lab):\n",
    "            continue\n",
    "        full_audio = AudioFileClip(raw_aud)\n",
    "\n",
    "        # 각 라벨 이름 정의\n",
    "        lab_name = {\n",
    "            10: \"shi\",\n",
    "            11: \"jon\",\n",
    "            12: \"sha\",\n",
    "            13: \"byoung\",\n",
    "            14: \"do\",\n",
    "            15: \"sang\",\n",
    "            16: \"mi\",\n",
    "            17: \"gae\",\n",
    "            9: \"background\",\n",
    "            0: \"negative\"\n",
    "        }[lab]\n",
    "        \n",
    "        lab_counter = counter[lab]\n",
    "        name = f\"{lab_name}_{lab_counter}\"\n",
    "        counter[lab] += 1\n",
    "\n",
    "        tmp_audio = full_audio.subclip(start, end)\n",
    "        \n",
    "        #라벨에 맞게 디렉터리 경로 초기화해주고\n",
    "        if lab == 10 or lab == 11 or lab == 12 or lab == 13 or lab == 14 or lab == 15 or lab == 16 or lab == 17:\n",
    "            directory = activate_dir\n",
    "        elif lab == 9:\n",
    "            directory = background_dir\n",
    "        elif lab == 0:\n",
    "            directory = negative_dir\n",
    "        else:\n",
    "            continue\n",
    "        # 라벨에 맞는 디렉터리에 저장\n",
    "        name = os.path.join(directory, name + \".wav\")\n",
    "        try:\n",
    "            tmp_audio.write_audiofile(name)\n",
    "        except OSError:\n",
    "            print('oserror')\n",
    "            continue\n",
    "            \n",
    "        audio.append(name)\n",
    "        label.append(int(lab))\n",
    "        print('완료됬습니다.')\n",
    "    count += 1\n",
    "\n",
    "save(audio, label)"
   ]
  },
  {
   "cell_type": "code",
   "execution_count": null,
   "metadata": {},
   "outputs": [],
   "source": []
  }
 ],
 "metadata": {
  "kernelspec": {
   "display_name": "Beeeeep_2",
   "language": "python",
   "name": "python3"
  },
  "language_info": {
   "codemirror_mode": {
    "name": "ipython",
    "version": 3
   },
   "file_extension": ".py",
   "mimetype": "text/x-python",
   "name": "python",
   "nbconvert_exporter": "python",
   "pygments_lexer": "ipython3",
   "version": "3.7.9"
  }
 },
 "nbformat": 4,
 "nbformat_minor": 2
}
