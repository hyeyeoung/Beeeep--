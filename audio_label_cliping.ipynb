{
 "cells": [
  {
   "cell_type": "code",
   "execution_count": 1,
   "metadata": {},
   "outputs": [],
   "source": [
    "## pip install moviepy==1.0.0\n",
    "\n",
    "import os\n",
    "import librosa\n",
    "import pandas as pd\n",
    "from moviepy.editor import *\n",
    "from tqdm import tqdm_notebook\n",
    "import numpy as np\n",
    "import re"
   ]
  },
  {
   "cell_type": "code",
   "execution_count": 2,
   "metadata": {},
   "outputs": [],
   "source": [
    "#from utils import make_dir\n",
    "def make_dir(dir_):\n",
    "    if not os.path.isdir(dir_):\n",
    "        os.mkdir(dir_)"
   ]
  },
  {
   "cell_type": "code",
   "execution_count": 3,
   "metadata": {},
   "outputs": [],
   "source": [
    "audio_label_clip_dir = os.path.join('.', 'data', 'audio_label_clip')\n",
    "make_dir(audio_label_clip_dir)"
   ]
  },
  {
   "cell_type": "code",
   "execution_count": 4,
   "metadata": {},
   "outputs": [],
   "source": [
    "def save(audios, label):\n",
    "    data = pd.DataFrame({\n",
    "        'audios':audios, 'label':label })\n",
    "    data.to_csv(audio_label_clip_dir+'/audio_label_clip.csv', index=False, encoding='euc-kr')"
   ]
  },
  {
   "cell_type": "code",
   "execution_count": 5,
   "metadata": {},
   "outputs": [
    {
     "name": "stdout",
     "output_type": "stream",
     "text": [
      "['bGFkdfYPPAo_0', 'bGFkdfYPPAo_1', 'bGFkdfYPPAo_10', 'bGFkdfYPPAo_11', 'bGFkdfYPPAo_12', 'bGFkdfYPPAo_13', 'bGFkdfYPPAo_14', 'bGFkdfYPPAo_15', 'bGFkdfYPPAo_16', 'bGFkdfYPPAo_17', 'bGFkdfYPPAo_18', 'bGFkdfYPPAo_2', 'bGFkdfYPPAo_3', 'bGFkdfYPPAo_4', 'bGFkdfYPPAo_5', 'bGFkdfYPPAo_6', 'bGFkdfYPPAo_7', 'bGFkdfYPPAo_8', 'bGFkdfYPPAo_9']\n"
     ]
    }
   ],
   "source": [
    "## 레이블링 데이터 위치 : ./data/label\n",
    "files = []\n",
    "for file in os.listdir(os.path.join('.', 'data', 'label')):\n",
    "    _, file_id = os.path.split(file)\n",
    "    if file_id.endswith('txt'):\n",
    "        name = file_id.split(\".\")[0]\n",
    "        if(name not in files):\n",
    "            files.append(name)\n",
    "\n",
    "print(files)"
   ]
  },
  {
   "cell_type": "code",
   "execution_count": 6,
   "metadata": {
    "scrolled": true
   },
   "outputs": [
    {
     "name": "stderr",
     "output_type": "stream",
     "text": [
      "                                                       "
     ]
    },
    {
     "name": "stdout",
     "output_type": "stream",
     "text": [
      "file name:bGFkdfYPPAo_0\n",
      "read new file\n",
      "   start  end  label\n",
      "0  0.539  3.6     10\n",
      "0.539 3.6 10\n",
      "MoviePy - Writing audio in .\\data\\audio_label_clip\\shi_0.wav\n",
      "MoviePy - Done.\n",
      "dd\n",
      "file name:bGFkdfYPPAo_1\n",
      "read new file\n",
      "   start   end  label\n",
      "0    3.6  4.62      0\n",
      "3.6 4.62 0\n",
      "MoviePy - Writing audio in .\\data\\audio_label_clip\\negative_0.wav"
     ]
    },
    {
     "name": "stderr",
     "output_type": "stream",
     "text": [
      "chunk:   0%|          | 0/32 [00:00<?, ?it/s, now=None]"
     ]
    },
    {
     "name": "stdout",
     "output_type": "stream",
     "text": [
      "\n",
      "MoviePy - Done.\n",
      "dd\n",
      "file name:bGFkdfYPPAo_10\n",
      "read new file\n",
      "    start    end  label\n",
      "0  25.439  26.88      0\n",
      "25.439 26.88 0\n",
      "MoviePy - Writing audio in .\\data\\audio_label_clip\\negative_1.wav\n"
     ]
    },
    {
     "name": "stderr",
     "output_type": "stream",
     "text": [
      "                                                       \r"
     ]
    },
    {
     "name": "stdout",
     "output_type": "stream",
     "text": [
      "MoviePy - Done.\n",
      "dd\n",
      "file name:bGFkdfYPPAo_11\n",
      "read new file\n",
      "   start    end  label\n",
      "0  26.88  27.96      0\n",
      "26.88 27.96 0\n",
      "MoviePy - Writing audio in .\\data\\audio_label_clip\\negative_2.wav\n",
      "MoviePy - Done.\n",
      "dd\n",
      "file name:bGFkdfYPPAo_12\n",
      "read new file\n",
      "   start     end  label\n",
      "0  27.96  28.859     10\n",
      "27.96 28.859 10\n",
      "MoviePy - Writing audio in .\\data\\audio_label_clip\\shi_1.wav"
     ]
    },
    {
     "name": "stderr",
     "output_type": "stream",
     "text": [
      "chunk:   0%|          | 0/28 [00:00<?, ?it/s, now=None]"
     ]
    },
    {
     "name": "stdout",
     "output_type": "stream",
     "text": [
      "\n",
      "MoviePy - Done.\n",
      "dd\n",
      "file name:bGFkdfYPPAo_13\n",
      "read new file\n",
      "    start     end  label\n",
      "0  28.859  30.119      0\n",
      "28.859 30.119 0\n",
      "MoviePy - Writing audio in .\\data\\audio_label_clip\\negative_3.wav\n"
     ]
    },
    {
     "name": "stderr",
     "output_type": "stream",
     "text": [
      "                                                       \r"
     ]
    },
    {
     "name": "stdout",
     "output_type": "stream",
     "text": [
      "MoviePy - Done.\n",
      "dd\n",
      "file name:bGFkdfYPPAo_14\n",
      "read new file\n",
      "    start    end  label\n",
      "0  30.119  32.46     10\n",
      "30.119 32.46 10\n",
      "MoviePy - Writing audio in .\\data\\audio_label_clip\\shi_2.wav\n",
      "MoviePy - Done.\n",
      "dd\n",
      "file name:bGFkdfYPPAo_15\n",
      "read new file\n",
      "   start     end  label\n",
      "0  32.46  37.079     11\n",
      "32.46 37.079 11\n"
     ]
    },
    {
     "name": "stderr",
     "output_type": "stream",
     "text": [
      "chunk:   0%|          | 0/55 [00:00<?, ?it/s, now=None] "
     ]
    },
    {
     "name": "stdout",
     "output_type": "stream",
     "text": [
      "MoviePy - Writing audio in .\\data\\audio_label_clip\\jon_0.wav\n",
      "MoviePy - Done.\n",
      "dd\n",
      "file name:bGFkdfYPPAo_16\n",
      "read new file\n",
      "    start    end  label\n",
      "0  37.079  39.54      0\n",
      "37.079 39.54 0\n",
      "MoviePy - Writing audio in .\\data\\audio_label_clip\\negative_4.wav\n"
     ]
    },
    {
     "name": "stderr",
     "output_type": "stream",
     "text": [
      "                                                       \r"
     ]
    },
    {
     "name": "stdout",
     "output_type": "stream",
     "text": [
      "MoviePy - Done.\n",
      "dd\n",
      "file name:bGFkdfYPPAo_17\n",
      "read new file\n",
      "   start    end  label\n",
      "0  39.54  41.34     10\n",
      "39.54 41.34 10\n",
      "MoviePy - Writing audio in .\\data\\audio_label_clip\\shi_3.wav\n",
      "MoviePy - Done.\n",
      "dd\n",
      "file name:bGFkdfYPPAo_18\n",
      "read new file\n",
      "   start   end  label\n",
      "0  41.34  43.0     10\n",
      "41.34 43.0 10\n"
     ]
    },
    {
     "name": "stderr",
     "output_type": "stream",
     "text": [
      "                                                       \r"
     ]
    },
    {
     "name": "stdout",
     "output_type": "stream",
     "text": [
      "MoviePy - Writing audio in .\\data\\audio_label_clip\\shi_4.wav\n",
      "MoviePy - Done.\n",
      "dd\n",
      "file name:bGFkdfYPPAo_2\n",
      "read new file\n",
      "   start   end  label\n",
      "0   4.62  6.06      0\n",
      "4.62 6.06 0\n",
      "MoviePy - Writing audio in .\\data\\audio_label_clip\\negative_5.wav\n",
      "MoviePy - Done.\n",
      "dd\n",
      "file name:bGFkdfYPPAo_3\n",
      "read new file\n",
      "   start  end  label\n",
      "0   6.06  7.7      0\n",
      "6.06 7.7 0\n"
     ]
    },
    {
     "name": "stderr",
     "output_type": "stream",
     "text": [
      "                                                       \r"
     ]
    },
    {
     "name": "stdout",
     "output_type": "stream",
     "text": [
      "MoviePy - Writing audio in .\\data\\audio_label_clip\\negative_6.wav\n",
      "MoviePy - Done.\n",
      "dd\n",
      "file name:bGFkdfYPPAo_4\n",
      "read new file\n",
      "   start    end  label\n",
      "0    7.7  10.44      0\n",
      "7.7 10.44 0\n",
      "MoviePy - Writing audio in .\\data\\audio_label_clip\\negative_7.wav\n",
      "MoviePy - Done.\n",
      "dd\n",
      "file name:bGFkdfYPPAo_5\n",
      "read new file\n",
      "   start     end  label\n",
      "0  10.44  12.599      0\n",
      "10.44 12.599 0\n"
     ]
    },
    {
     "name": "stderr",
     "output_type": "stream",
     "text": [
      "chunk:   0%|          | 0/69 [00:00<?, ?it/s, now=None]"
     ]
    },
    {
     "name": "stdout",
     "output_type": "stream",
     "text": [
      "MoviePy - Writing audio in .\\data\\audio_label_clip\\negative_8.wav\n",
      "MoviePy - Done.\n",
      "dd\n",
      "file name:bGFkdfYPPAo_6\n",
      "read new file\n",
      "    start     end  label\n",
      "0  12.599  15.719      0\n",
      "12.599 15.719 0\n",
      "MoviePy - Writing audio in .\\data\\audio_label_clip\\negative_9.wav\n"
     ]
    },
    {
     "name": "stderr",
     "output_type": "stream",
     "text": [
      "                                                       \r"
     ]
    },
    {
     "name": "stdout",
     "output_type": "stream",
     "text": [
      "MoviePy - Done.\n",
      "dd\n",
      "file name:bGFkdfYPPAo_7\n",
      "read new file\n",
      "    start    end  label\n",
      "0  15.719  19.02      0\n",
      "15.719 19.02 0\n",
      "MoviePy - Writing audio in .\\data\\audio_label_clip\\negative_10.wav\n",
      "MoviePy - Done.\n",
      "dd\n",
      "file name:bGFkdfYPPAo_8\n",
      "read new file\n",
      "   start    end  label\n",
      "0  19.02  22.14      0\n",
      "19.02 22.14 0\n",
      "MoviePy - Writing audio in .\\data\\audio_label_clip\\negative_11.wav\n"
     ]
    },
    {
     "name": "stderr",
     "output_type": "stream",
     "text": [
      "                                                       "
     ]
    },
    {
     "name": "stdout",
     "output_type": "stream",
     "text": [
      "MoviePy - Done.\n",
      "dd\n",
      "file name:bGFkdfYPPAo_9\n",
      "read new file\n",
      "   start     end  label\n",
      "0  22.14  25.439     10\n",
      "22.14 25.439 10\n",
      "MoviePy - Writing audio in .\\data\\audio_label_clip\\shi_5.wav\n",
      "MoviePy - Done.\n",
      "dd\n"
     ]
    },
    {
     "name": "stderr",
     "output_type": "stream",
     "text": [
      "\r"
     ]
    }
   ],
   "source": [
    "audio = []\n",
    "label = []\n",
    "shi = 0\n",
    "jon = 0\n",
    "sha = 0\n",
    "byoung = 0\n",
    "background = 0\n",
    "negative = 0\n",
    "count = 0\n",
    "\n",
    "for file in files:\n",
    "    print(\"file name:\" + file)\n",
    "    text = './data/label/' + file + \".txt\"\n",
    "    aud = './data/label/' + file + \".wav\"\n",
    "    # 정규표현식 패턴\n",
    "    pattern = r\"^(.*?)_\\d+$\"\n",
    "    # 정규표현식 매칭\n",
    "    match = re.match(pattern, file)\n",
    "    raw_aud = './data/audio/' + str(match.group(1))+ \".wav\"\n",
    "\n",
    "    print(\"read new file\")\n",
    "    data = pd.read_csv(text, sep=\"\\t\", names=['start', 'end', 'label'])\n",
    "    print(data)\n",
    "#     data.start.astype('float')\n",
    "#     data.end.astype('float')\n",
    "    for i in range(len(data)):\n",
    "        lab = data.label[i]\n",
    "        print(data.start[i], data.end[i], data.label[i])\n",
    "        try:\n",
    "            start = float(data.start[i])\n",
    "            end = float(data.end[i])\n",
    "        except ValueError:\n",
    "            continue\n",
    "        if start >= end:\n",
    "            continue\n",
    "        if np.array(data.label[i])==np.nan:\n",
    "            continue\n",
    "        full_audio = AudioFileClip(raw_aud)\n",
    "        if(lab==10): #shi\n",
    "            name = \"shi_\" + str(shi)\n",
    "            shi += 1\n",
    "        elif(lab==11): #jon \n",
    "            name = \"jon_\" + str(jon)\n",
    "            jon += 1\n",
    "        elif(lab==12): #sha\n",
    "            name = \"sha_\" + str(sha)\n",
    "            sha += 1\n",
    "        elif(lab==13): #byoung\n",
    "            name = \"byoung_\" + str(byoung)\n",
    "            byoung += 1\n",
    "        elif(lab==9): #background\n",
    "            name = \"background_\" + str(background)\n",
    "            background+= 1\n",
    "        elif(lab==0): #negative\n",
    "            name = \"negative_\" + str(negative)\n",
    "            negative += 1\n",
    "        tmp_audio = full_audio.subclip(start, end)\n",
    "        name = os.path.join(audio_label_clip_dir,  name + \".wav\")\n",
    "        try:\n",
    "            tmp_audio.write_audiofile(name)\n",
    "        except OSError:\n",
    "            print('oserror')\n",
    "            continue\n",
    "            \n",
    "        audio.append(name + \".wav\")\n",
    "        label.append(int(lab))\n",
    "        print('완료됬습니다.')\n",
    "    count += 1\n",
    "save(audio, label)"
   ]
  },
  {
   "cell_type": "code",
   "execution_count": null,
   "metadata": {},
   "outputs": [],
   "source": []
  }
 ],
 "metadata": {
  "kernelspec": {
   "display_name": "Beeeeep_2",
   "language": "python",
   "name": "python3"
  },
  "language_info": {
   "codemirror_mode": {
    "name": "ipython",
    "version": 3
   },
   "file_extension": ".py",
   "mimetype": "text/x-python",
   "name": "python",
   "nbconvert_exporter": "python",
   "pygments_lexer": "ipython3",
   "version": "3.7.9"
  }
 },
 "nbformat": 4,
 "nbformat_minor": 2
}
