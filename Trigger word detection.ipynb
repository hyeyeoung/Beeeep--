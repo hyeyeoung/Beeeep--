{
 "cells": [
  {
   "cell_type": "markdown",
   "metadata": {},
   "source": [
    "## Data check"
   ]
  },
  {
   "cell_type": "code",
   "execution_count": 1,
   "metadata": {},
   "outputs": [
    {
     "name": "stderr",
     "output_type": "stream",
     "text": [
      "c:\\Users\\user\\anaconda3\\envs\\Beeeeep_2\\lib\\site-packages\\pydub\\utils.py:170: RuntimeWarning: Couldn't find ffmpeg or avconv - defaulting to ffmpeg, but may not work\n",
      "  warn(\"Couldn't find ffmpeg or avconv - defaulting to ffmpeg, but may not work\", RuntimeWarning)\n"
     ]
    },
    {
     "name": "stdout",
     "output_type": "stream",
     "text": [
      "Time steps in audio recording before spectrogram (441000,)\n"
     ]
    },
    {
     "ename": "AttributeError",
     "evalue": "'tuple' object has no attribute 'shape'",
     "output_type": "error",
     "traceback": [
      "\u001b[1;31m---------------------------------------------------------------------------\u001b[0m",
      "\u001b[1;31mAttributeError\u001b[0m                            Traceback (most recent call last)",
      "\u001b[1;32m<ipython-input-1-530d6d52d7b5>\u001b[0m in \u001b[0;36m<module>\u001b[1;34m\u001b[0m\n\u001b[0;32m     10\u001b[0m \u001b[0m_\u001b[0m\u001b[1;33m,\u001b[0m \u001b[0mdata\u001b[0m \u001b[1;33m=\u001b[0m \u001b[0mget_wav_info\u001b[0m\u001b[1;33m(\u001b[0m\u001b[0mfullname\u001b[0m\u001b[1;33m)\u001b[0m\u001b[1;33m\u001b[0m\u001b[1;33m\u001b[0m\u001b[0m\n\u001b[0;32m     11\u001b[0m \u001b[0mprint\u001b[0m\u001b[1;33m(\u001b[0m\u001b[1;34m\"Time steps in audio recording before spectrogram\"\u001b[0m\u001b[1;33m,\u001b[0m \u001b[0mdata\u001b[0m\u001b[1;33m.\u001b[0m\u001b[0mshape\u001b[0m\u001b[1;33m)\u001b[0m\u001b[1;33m\u001b[0m\u001b[1;33m\u001b[0m\u001b[0m\n\u001b[1;32m---> 12\u001b[1;33m \u001b[0mprint\u001b[0m\u001b[1;33m(\u001b[0m\u001b[1;34m\"Time steps in input after spectrogram\"\u001b[0m\u001b[1;33m,\u001b[0m \u001b[0mx\u001b[0m\u001b[1;33m.\u001b[0m\u001b[0mshape\u001b[0m\u001b[1;33m)\u001b[0m\u001b[1;33m\u001b[0m\u001b[1;33m\u001b[0m\u001b[0m\n\u001b[0m\u001b[0;32m     13\u001b[0m \u001b[1;33m\u001b[0m\u001b[0m\n\u001b[0;32m     14\u001b[0m \u001b[0mlibrosa\u001b[0m\u001b[1;33m.\u001b[0m\u001b[0mdisplay\u001b[0m\u001b[1;33m.\u001b[0m\u001b[0mspecshow\u001b[0m\u001b[1;33m(\u001b[0m\u001b[0mx\u001b[0m\u001b[1;33m,\u001b[0m \u001b[0msr\u001b[0m\u001b[1;33m=\u001b[0m\u001b[1;36m44100\u001b[0m\u001b[1;33m,\u001b[0m \u001b[0mx_axis\u001b[0m\u001b[1;33m=\u001b[0m\u001b[1;34m'time'\u001b[0m\u001b[1;33m,\u001b[0m \u001b[0my_axis\u001b[0m\u001b[1;33m=\u001b[0m\u001b[1;34m'mel'\u001b[0m\u001b[1;33m)\u001b[0m\u001b[1;33m\u001b[0m\u001b[1;33m\u001b[0m\u001b[0m\n",
      "\u001b[1;31mAttributeError\u001b[0m: 'tuple' object has no attribute 'shape'"
     ]
    }
   ],
   "source": [
    "import librosa.display\n",
    "from td_utils import *\n",
    "%matplotlib inline\n",
    "\n",
    "audio_dir = os.path.join('.','data','train_audios')\n",
    "wav_file = 'mix_0.wav'\n",
    "fullname = os.path.join(audio_dir, wav_file)\n",
    "\n",
    "x = graph_spectrogram(fullname)\n",
    "_, data = get_wav_info(fullname)\n",
    "print(\"Time steps in audio recording before spectrogram\", data.shape)\n",
    "print(\"Time steps in input after spectrogram\", x.shape)\n",
    "\n",
    "librosa.display.specshow(x, sr=44100, x_axis='time', y_axis='mel')"
   ]
  },
  {
   "cell_type": "code",
   "execution_count": 14,
   "metadata": {},
   "outputs": [],
   "source": [
    "n_freq = 128 # 스펙토그램 높이"
   ]
  },
  {
   "cell_type": "markdown",
   "metadata": {},
   "source": [
    "# DataLoader\n",
    "\n",
    "with keras"
   ]
  },
  {
   "cell_type": "code",
   "execution_count": 3,
   "metadata": {},
   "outputs": [],
   "source": [
    "import os \n",
    "import pandas as pd\n",
    "import numpy as np\n",
    "from keras.utils import Sequence"
   ]
  },
  {
   "cell_type": "code",
   "execution_count": 4,
   "metadata": {},
   "outputs": [
    {
     "data": {
      "text/html": [
       "<div>\n",
       "<style scoped>\n",
       "    .dataframe tbody tr th:only-of-type {\n",
       "        vertical-align: middle;\n",
       "    }\n",
       "\n",
       "    .dataframe tbody tr th {\n",
       "        vertical-align: top;\n",
       "    }\n",
       "\n",
       "    .dataframe thead th {\n",
       "        text-align: right;\n",
       "    }\n",
       "</style>\n",
       "<table border=\"1\" class=\"dataframe\">\n",
       "  <thead>\n",
       "    <tr style=\"text-align: right;\">\n",
       "      <th></th>\n",
       "      <th>x</th>\n",
       "      <th>y</th>\n",
       "    </tr>\n",
       "  </thead>\n",
       "  <tbody>\n",
       "    <tr>\n",
       "      <th>0</th>\n",
       "      <td>.\\data\\XY_train\\x_0.npy</td>\n",
       "      <td>.\\data\\XY_train\\y_0.npy</td>\n",
       "    </tr>\n",
       "    <tr>\n",
       "      <th>1</th>\n",
       "      <td>.\\data\\XY_train\\x_1.npy</td>\n",
       "      <td>.\\data\\XY_train\\y_1.npy</td>\n",
       "    </tr>\n",
       "    <tr>\n",
       "      <th>2</th>\n",
       "      <td>.\\data\\XY_train\\x_2.npy</td>\n",
       "      <td>.\\data\\XY_train\\y_2.npy</td>\n",
       "    </tr>\n",
       "    <tr>\n",
       "      <th>3</th>\n",
       "      <td>.\\data\\XY_train\\x_3.npy</td>\n",
       "      <td>.\\data\\XY_train\\y_3.npy</td>\n",
       "    </tr>\n",
       "    <tr>\n",
       "      <th>4</th>\n",
       "      <td>.\\data\\XY_train\\x_4.npy</td>\n",
       "      <td>.\\data\\XY_train\\y_4.npy</td>\n",
       "    </tr>\n",
       "  </tbody>\n",
       "</table>\n",
       "</div>"
      ],
      "text/plain": [
       "                         x                        y\n",
       "0  .\\data\\XY_train\\x_0.npy  .\\data\\XY_train\\y_0.npy\n",
       "1  .\\data\\XY_train\\x_1.npy  .\\data\\XY_train\\y_1.npy\n",
       "2  .\\data\\XY_train\\x_2.npy  .\\data\\XY_train\\y_2.npy\n",
       "3  .\\data\\XY_train\\x_3.npy  .\\data\\XY_train\\y_3.npy\n",
       "4  .\\data\\XY_train\\x_4.npy  .\\data\\XY_train\\y_4.npy"
      ]
     },
     "execution_count": 4,
     "metadata": {},
     "output_type": "execute_result"
    }
   ],
   "source": [
    "data_dir = os.path.join('.','data', 'XY_train')\n",
    "x_s = []\n",
    "y_s = []\n",
    "for file in os.listdir(data_dir):\n",
    "    if file.startswith('x_'):\n",
    "        x_s.append(os.path.join(data_dir,file))\n",
    "    elif file.startswith('y_'):\n",
    "        y_s.append(os.path.join(data_dir,file))\n",
    "    x_s = sorted(x_s)\n",
    "    y_s = sorted(y_s)\n",
    "df = pd.DataFrame({'x':x_s, 'y':y_s})\n",
    "df.head()"
   ]
  },
  {
   "cell_type": "code",
   "execution_count": 5,
   "metadata": {},
   "outputs": [
    {
     "name": "stdout",
     "output_type": "stream",
     "text": [
      "(8, 2) (2, 2)\n"
     ]
    }
   ],
   "source": [
    "train_ratio = 0.8\n",
    "idxs = list(range(len(df)))\n",
    "np.random.shuffle(idxs)\n",
    "train_idx = idxs[:int(len(df)*train_ratio)]\n",
    "valid_idx = idxs[int(len(df)*train_ratio):]\n",
    "\n",
    "train_df = df.loc[train_idx]\n",
    "valid_df = df.loc[valid_idx]\n",
    "\n",
    "print(train_df.shape, valid_df.shape)"
   ]
  },
  {
   "cell_type": "code",
   "execution_count": 6,
   "metadata": {},
   "outputs": [
    {
     "ename": "FileNotFoundError",
     "evalue": "[WinError 3] 지정된 경로를 찾을 수 없습니다: '.\\\\data\\\\XY_test'",
     "output_type": "error",
     "traceback": [
      "\u001b[1;31m---------------------------------------------------------------------------\u001b[0m",
      "\u001b[1;31mFileNotFoundError\u001b[0m                         Traceback (most recent call last)",
      "\u001b[1;32m<ipython-input-6-8fbf505a5a84>\u001b[0m in \u001b[0;36m<module>\u001b[1;34m\u001b[0m\n\u001b[0;32m      2\u001b[0m \u001b[0mx_s\u001b[0m \u001b[1;33m=\u001b[0m \u001b[1;33m[\u001b[0m\u001b[1;33m]\u001b[0m\u001b[1;33m\u001b[0m\u001b[1;33m\u001b[0m\u001b[0m\n\u001b[0;32m      3\u001b[0m \u001b[0my_s\u001b[0m \u001b[1;33m=\u001b[0m \u001b[1;33m[\u001b[0m\u001b[1;33m]\u001b[0m\u001b[1;33m\u001b[0m\u001b[1;33m\u001b[0m\u001b[0m\n\u001b[1;32m----> 4\u001b[1;33m \u001b[1;32mfor\u001b[0m \u001b[0mfile\u001b[0m \u001b[1;32min\u001b[0m \u001b[0mos\u001b[0m\u001b[1;33m.\u001b[0m\u001b[0mlistdir\u001b[0m\u001b[1;33m(\u001b[0m\u001b[0mdata_dir\u001b[0m\u001b[1;33m)\u001b[0m\u001b[1;33m:\u001b[0m\u001b[1;33m\u001b[0m\u001b[1;33m\u001b[0m\u001b[0m\n\u001b[0m\u001b[0;32m      5\u001b[0m     \u001b[1;32mif\u001b[0m \u001b[0mfile\u001b[0m\u001b[1;33m.\u001b[0m\u001b[0mstartswith\u001b[0m\u001b[1;33m(\u001b[0m\u001b[1;34m'x_'\u001b[0m\u001b[1;33m)\u001b[0m\u001b[1;33m:\u001b[0m\u001b[1;33m\u001b[0m\u001b[1;33m\u001b[0m\u001b[0m\n\u001b[0;32m      6\u001b[0m         \u001b[0mx_s\u001b[0m\u001b[1;33m.\u001b[0m\u001b[0mappend\u001b[0m\u001b[1;33m(\u001b[0m\u001b[0mos\u001b[0m\u001b[1;33m.\u001b[0m\u001b[0mpath\u001b[0m\u001b[1;33m.\u001b[0m\u001b[0mjoin\u001b[0m\u001b[1;33m(\u001b[0m\u001b[0mdata_dir\u001b[0m\u001b[1;33m,\u001b[0m\u001b[0mfile\u001b[0m\u001b[1;33m)\u001b[0m\u001b[1;33m)\u001b[0m\u001b[1;33m\u001b[0m\u001b[1;33m\u001b[0m\u001b[0m\n",
      "\u001b[1;31mFileNotFoundError\u001b[0m: [WinError 3] 지정된 경로를 찾을 수 없습니다: '.\\\\data\\\\XY_test'"
     ]
    }
   ],
   "source": [
    "data_dir = os.path.join('.','data', 'XY_test')\n",
    "x_s = []\n",
    "y_s = []\n",
    "for file in os.listdir(data_dir):\n",
    "    if file.startswith('x_'):\n",
    "        x_s.append(os.path.join(data_dir,file))\n",
    "    elif file.startswith('y_'):\n",
    "        y_s.append(os.path.join(data_dir,file))\n",
    "    x_s = sorted(x_s)\n",
    "    y_s = sorted(y_s)\n",
    "test_df = pd.DataFrame({'x':x_s, 'y':y_s})\n",
    "test_df.head()"
   ]
  },
  {
   "cell_type": "code",
   "execution_count": 7,
   "metadata": {},
   "outputs": [],
   "source": [
    "class DataGenerator(Sequence):\n",
    "    def __init__(self, df, batch_size, shuffle = True):\n",
    "        self.X = list(df.x)\n",
    "        self.y = list(df.y)\n",
    "        self.batch_size = batch_size\n",
    "        self.shuffle = shuffle\n",
    "        self.on_epoch_end()\n",
    "        \n",
    "    def on_epoch_end(self):\n",
    "        self.indexes = np.arange(len(self.X))\n",
    "        if self.shuffle:\n",
    "            np.random.shuffle(self.indexes)\n",
    "            \n",
    "    def __len__(self):\n",
    "        return int(np.floor(len(self.X) / self.batch_size))\n",
    "    \n",
    "    def __data_generation(self, X_list, y_list):\n",
    "        X = []\n",
    "        y = []\n",
    "        for i, (img, label) in enumerate(zip(X_list, y_list)):\n",
    "            X.append(np.load(img))\n",
    "            y.append(np.load(label))\n",
    "        \n",
    "        X = np.stack(X, axis=0)\n",
    "        y = np.stack(y, axis=0)\n",
    "\n",
    "        return X, y\n",
    "        \n",
    "    def __getitem__(self, index):\n",
    "        indexes = self.indexes[index * self.batch_size : (index + 1) * self.batch_size]\n",
    "        X_list = [self.X[k] for k in indexes]\n",
    "        y_list = [self.y[k] for k in indexes]\n",
    "        X, y = self.__data_generation(X_list, y_list)\n",
    "        return X, y"
   ]
  },
  {
   "cell_type": "code",
   "execution_count": 9,
   "metadata": {},
   "outputs": [],
   "source": [
    "train_generator = DataGenerator(train_df, 5)\n",
    "valid_generator = DataGenerator(valid_df, 5)\n",
    "# test_generator = DataGenerator(test_df, 3)"
   ]
  },
  {
   "cell_type": "markdown",
   "metadata": {},
   "source": [
    "# Train"
   ]
  },
  {
   "cell_type": "code",
   "execution_count": 10,
   "metadata": {},
   "outputs": [],
   "source": [
    "from keras.callbacks import ModelCheckpoint\n",
    "from keras.models import Model, load_model, Sequential\n",
    "from keras.layers import Dense, Activation, Dropout, Input, Masking, TimeDistributed, LSTM, Conv1D\n",
    "from keras.layers import GRU, Bidirectional, BatchNormalization, Reshape\n",
    "from keras.optimizers import Adam"
   ]
  },
  {
   "cell_type": "code",
   "execution_count": 11,
   "metadata": {},
   "outputs": [],
   "source": [
    "def make_model(input_shape):\n",
    "    \n",
    "    X_input = Input(shape = input_shape)\n",
    "    X = Conv1D(196, kernel_size=15, strides=4)(X_input)         # CONV1D\n",
    "    X = BatchNormalization()(X)                                 # Batch normalization\n",
    "    X = Activation('relu')(X)                                   # ReLu activation\n",
    "    X = Dropout(0.8)(X)                                         # dropout (use 0.8)\n",
    "\n",
    "    X = GRU(units = 128, return_sequences = True)(X)            # GRU (use 128 units and return the sequences)\n",
    "    X = Dropout(0.8)(X)                                         # dropout (use 0.8)\n",
    "    X = BatchNormalization()(X)                                 # Batch normalization\n",
    "\n",
    "    X = GRU(units = 128, return_sequences = True)(X)            # GRU (use 128 units and return the sequences)\n",
    "    X = Dropout(0.8)(X)                                         # dropout (use 0.8)\n",
    "    X = BatchNormalization()(X)                                 # Batch normalization\n",
    "    X = Dropout(0.8)(X)                                         # dropout (use 0.8)\n",
    "\n",
    "    X = TimeDistributed(Dense(1, activation = \"sigmoid\"))(X)    # time distributed  (sigmoid)\n",
    "\n",
    "    model = Model(inputs = X_input, outputs = X)\n",
    "    return model  "
   ]
  },
  {
   "cell_type": "code",
   "execution_count": 15,
   "metadata": {},
   "outputs": [],
   "source": [
    "model = make_model(input_shape = (None, n_freq))"
   ]
  },
  {
   "cell_type": "code",
   "execution_count": 16,
   "metadata": {},
   "outputs": [
    {
     "name": "stdout",
     "output_type": "stream",
     "text": [
      "Model: \"model\"\n",
      "_________________________________________________________________\n",
      " Layer (type)                Output Shape              Param #   \n",
      "=================================================================\n",
      " input_1 (InputLayer)        [(None, None, 128)]       0         \n",
      "                                                                 \n",
      " conv1d (Conv1D)             (None, None, 196)         376516    \n",
      "                                                                 \n",
      " batch_normalization (BatchN  (None, None, 196)        784       \n",
      " ormalization)                                                   \n",
      "                                                                 \n",
      " activation (Activation)     (None, None, 196)         0         \n",
      "                                                                 \n",
      " dropout (Dropout)           (None, None, 196)         0         \n",
      "                                                                 \n",
      " gru (GRU)                   (None, None, 128)         125184    \n",
      "                                                                 \n",
      " dropout_1 (Dropout)         (None, None, 128)         0         \n",
      "                                                                 \n",
      " batch_normalization_1 (Batc  (None, None, 128)        512       \n",
      " hNormalization)                                                 \n",
      "                                                                 \n",
      " gru_1 (GRU)                 (None, None, 128)         99072     \n",
      "                                                                 \n",
      " dropout_2 (Dropout)         (None, None, 128)         0         \n",
      "                                                                 \n",
      " batch_normalization_2 (Batc  (None, None, 128)        512       \n",
      " hNormalization)                                                 \n",
      "                                                                 \n",
      " dropout_3 (Dropout)         (None, None, 128)         0         \n",
      "                                                                 \n",
      " time_distributed (TimeDistr  (None, None, 1)          129       \n",
      " ibuted)                                                         \n",
      "                                                                 \n",
      "=================================================================\n",
      "Total params: 602,709\n",
      "Trainable params: 601,805\n",
      "Non-trainable params: 904\n",
      "_________________________________________________________________\n"
     ]
    }
   ],
   "source": [
    "model.summary()"
   ]
  },
  {
   "cell_type": "code",
   "execution_count": 17,
   "metadata": {},
   "outputs": [
    {
     "name": "stderr",
     "output_type": "stream",
     "text": [
      "c:\\Users\\user\\anaconda3\\envs\\Beeeeep_2\\lib\\site-packages\\keras\\optimizers\\optimizer_v2\\adam.py:117: UserWarning: The `lr` argument is deprecated, use `learning_rate` instead.\n",
      "  super().__init__(name, **kwargs)\n"
     ]
    }
   ],
   "source": [
    "opt = Adam(lr=0.00001, beta_1=0.9, beta_2=0.999, decay=0.01)\n",
    "model.compile(loss='binary_crossentropy', optimizer=opt, metrics=[\"accuracy\"])"
   ]
  },
  {
   "cell_type": "code",
   "execution_count": 18,
   "metadata": {},
   "outputs": [
    {
     "name": "stdout",
     "output_type": "stream",
     "text": [
      "Epoch 1/10\n"
     ]
    },
    {
     "name": "stderr",
     "output_type": "stream",
     "text": [
      "c:\\Users\\user\\anaconda3\\envs\\Beeeeep_2\\lib\\site-packages\\ipykernel_launcher.py:3: UserWarning: `Model.fit_generator` is deprecated and will be removed in a future version. Please use `Model.fit`, which supports generators.\n",
      "  This is separate from the ipykernel package so we can avoid doing imports until\n"
     ]
    },
    {
     "name": "stdout",
     "output_type": "stream",
     "text": [
      "1/1 [==============================] - 4s 4s/step - loss: 1.4109 - accuracy: 0.5123\n",
      "Epoch 2/10\n",
      "1/1 [==============================] - 0s 204ms/step - loss: 1.4620 - accuracy: 0.4981\n",
      "Epoch 3/10\n",
      "1/1 [==============================] - 0s 231ms/step - loss: 1.4786 - accuracy: 0.5057\n",
      "Epoch 4/10\n",
      "1/1 [==============================] - 0s 197ms/step - loss: 1.4300 - accuracy: 0.4915\n",
      "Epoch 5/10\n",
      "1/1 [==============================] - 0s 199ms/step - loss: 1.4311 - accuracy: 0.5038\n",
      "Epoch 6/10\n",
      "1/1 [==============================] - 0s 191ms/step - loss: 1.4205 - accuracy: 0.5075\n",
      "Epoch 7/10\n",
      "1/1 [==============================] - 0s 193ms/step - loss: 1.4490 - accuracy: 0.4868\n",
      "Epoch 8/10\n",
      "1/1 [==============================] - 0s 195ms/step - loss: 1.3489 - accuracy: 0.5208\n",
      "Epoch 9/10\n",
      "1/1 [==============================] - 0s 195ms/step - loss: 1.5009 - accuracy: 0.4594\n",
      "Epoch 10/10\n",
      "1/1 [==============================] - 0s 195ms/step - loss: 1.4407 - accuracy: 0.4774\n"
     ]
    },
    {
     "data": {
      "text/plain": [
       "<keras.callbacks.History at 0x23e8f43a148>"
      ]
     },
     "execution_count": 18,
     "metadata": {},
     "output_type": "execute_result"
    }
   ],
   "source": [
    "model.fit_generator(generator=train_generator,\n",
    "                    validation_data=valid_generator,\n",
    "                    epochs = 10)"
   ]
  },
  {
   "cell_type": "markdown",
   "metadata": {},
   "source": [
    "# Test"
   ]
  },
  {
   "cell_type": "code",
   "execution_count": 4,
   "metadata": {},
   "outputs": [],
   "source": [
    "def postprocessing(outputs, th):\n",
    "    for output in outputs:\n",
    "        output[output<th] = 0\n",
    "        output[output>=th] = 1\n",
    "    return outputs"
   ]
  },
  {
   "cell_type": "code",
   "execution_count": null,
   "metadata": {},
   "outputs": [],
   "source": [
    "import matplotlib.pyplot as plt\n",
    "for batch in test_generator:\n",
    "    x, y = batch\n",
    "    output = model.predict(x)\n",
    "    output = postprocessing(output,0.6)\n",
    "    for i in range(len(y)):\n",
    "        plt.plot(y[i], label='true')\n",
    "        plt.plot(output[i], label='predict')\n",
    "        plt.legend()\n",
    "        plt.show()"
   ]
  }
 ],
 "metadata": {
  "coursera": {
   "course_slug": "nlp-sequence-models",
   "graded_item_id": "rSupZ",
   "launcher_item_id": "cvGhe"
  },
  "kernelspec": {
   "display_name": "Beeeeep_2",
   "language": "python",
   "name": "python3"
  },
  "language_info": {
   "codemirror_mode": {
    "name": "ipython",
    "version": 3
   },
   "file_extension": ".py",
   "mimetype": "text/x-python",
   "name": "python",
   "nbconvert_exporter": "python",
   "pygments_lexer": "ipython3",
   "version": "3.7.16"
  }
 },
 "nbformat": 4,
 "nbformat_minor": 2
}
