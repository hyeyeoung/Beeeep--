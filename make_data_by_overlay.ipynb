{
 "cells": [
  {
   "cell_type": "code",
   "execution_count": 87,
   "metadata": {},
   "outputs": [],
   "source": [
    "from td_utils import load_raw_audio\n",
    "from mix_audio import create_training_data\n",
    "from utils import make_dir\n",
    "\n",
    "import os\n",
    "import numpy as np\n",
    "from tqdm import tqdm\n",
    "import IPython\n",
    "import matplotlib.pyplot as plt\n",
    "\n",
    "from pydub import AudioSegment\n"
   ]
  },
  {
   "cell_type": "code",
   "execution_count": 88,
   "metadata": {},
   "outputs": [],
   "source": [
    "version = 'train' # 데이터 만들때마다 바꾸기"
   ]
  },
  {
   "cell_type": "code",
   "execution_count": 89,
   "metadata": {},
   "outputs": [],
   "source": [
    "make_dir('./data/{}_audios'.format(version))\n",
    "make_dir('./data/XY_{}'.format(version))"
   ]
  },
  {
   "cell_type": "code",
   "execution_count": 91,
   "metadata": {},
   "outputs": [
    {
     "name": "stdout",
     "output_type": "stream",
     "text": [
      "train\n",
      ".\\data\\audio_label_clip\n",
      "backgrounds가 없습니다..\n"
     ]
    }
   ],
   "source": [
    "\n",
    "if version == 'train':\n",
    "    audio_dir = os.path.join('.', 'data', 'audio_label_clip')\n",
    "else:\n",
    "    audio_dir = os.path.join('.', 'data', 'audio_label_clip_for_test')\n",
    "\n",
    "activates, negatives, backgrounds = load_raw_audio(audio_dir)\n",
    "\n",
    "num_of_data = 10\n",
    "\n",
    "if len(backgrounds) == 0:\n",
    "    print(\"backgrounds가 없습니다..\")\n",
    "else:\n",
    "    for i in tqdm(range(num_of_data)):\n",
    "        j = np.random.randint(0, len(backgrounds))\n",
    "        background = backgrounds[j]\n",
    "        x, y = create_training_data(background, \n",
    "                                    activates, \n",
    "                                    negatives, \n",
    "                                    filename='./data/{}_audios/mix_{}.wav'.format(version, i))\n",
    "        x = np.transpose(x)\n",
    "        y = np.transpose(y)\n",
    "        np.save('./data/XY_{}/x_{}'.format(version, i), x)\n",
    "        np.save('./data/XY_{}/y_{}'.format(version, i), y)"
   ]
  },
  {
   "cell_type": "code",
   "execution_count": null,
   "metadata": {},
   "outputs": [],
   "source": [
    "print(x.shape, y.shape)"
   ]
  },
  {
   "cell_type": "code",
   "execution_count": null,
   "metadata": {},
   "outputs": [],
   "source": [
    "IPython.display.Audio(\"./data/{}_audios/mix_{}.wav\".format(version, num_of_data-1))"
   ]
  },
  {
   "cell_type": "code",
   "execution_count": null,
   "metadata": {},
   "outputs": [],
   "source": [
    "plt.plot(np.load('./data/XY_{}/y_{}.npy'.format(version, num_of_data-1)))"
   ]
  }
 ],
 "metadata": {
  "kernelspec": {
   "display_name": "Beeeeep_2",
   "language": "python",
   "name": "python3"
  },
  "language_info": {
   "codemirror_mode": {
    "name": "ipython",
    "version": 3
   },
   "file_extension": ".py",
   "mimetype": "text/x-python",
   "name": "python",
   "nbconvert_exporter": "python",
   "pygments_lexer": "ipython3",
   "version": "3.7.16"
  }
 },
 "nbformat": 4,
 "nbformat_minor": 2
}
