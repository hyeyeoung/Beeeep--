{
 "cells": [
  {
   "cell_type": "code",
   "execution_count": 17,
   "metadata": {},
   "outputs": [],
   "source": [
    "from td_utils import load_raw_audio\n",
    "from mix_audio import create_training_data\n",
    "from utils import make_dir\n",
    "\n",
    "import os\n",
    "import numpy as np\n",
    "from tqdm import tqdm\n",
    "import IPython\n",
    "import matplotlib.pyplot as plt"
   ]
  },
  {
   "cell_type": "code",
   "execution_count": 18,
   "metadata": {},
   "outputs": [],
   "source": [
    "version = 'test'"
   ]
  },
  {
   "cell_type": "code",
   "execution_count": 19,
   "metadata": {},
   "outputs": [],
   "source": [
    "make_dir('./data/{}_audios'.format(version))\n",
    "make_dir('./data/XY_{}'.format(version))"
   ]
  },
  {
   "cell_type": "code",
   "execution_count": 21,
   "metadata": {},
   "outputs": [
    {
     "ename": "TypeError",
     "evalue": "load_raw_audio() missing 1 required positional argument: 'audio_dir'",
     "output_type": "error",
     "traceback": [
      "\u001b[1;31m---------------------------------------------------------------------------\u001b[0m",
      "\u001b[1;31mTypeError\u001b[0m                                 Traceback (most recent call last)",
      "\u001b[1;32m<ipython-input-21-31ed6bcd9975>\u001b[0m in \u001b[0;36m<module>\u001b[1;34m\u001b[0m\n\u001b[0;32m      4\u001b[0m     \u001b[0maudio_dir\u001b[0m \u001b[1;33m=\u001b[0m \u001b[0mos\u001b[0m\u001b[1;33m.\u001b[0m\u001b[0mpath\u001b[0m\u001b[1;33m.\u001b[0m\u001b[0mjoin\u001b[0m\u001b[1;33m(\u001b[0m\u001b[1;34m'.'\u001b[0m\u001b[1;33m,\u001b[0m \u001b[1;34m'data'\u001b[0m\u001b[1;33m,\u001b[0m \u001b[1;34m'audio_label_clip_for_test'\u001b[0m\u001b[1;33m)\u001b[0m\u001b[1;33m\u001b[0m\u001b[1;33m\u001b[0m\u001b[0m\n\u001b[0;32m      5\u001b[0m \u001b[1;33m\u001b[0m\u001b[0m\n\u001b[1;32m----> 6\u001b[1;33m \u001b[0mactivates\u001b[0m\u001b[1;33m,\u001b[0m \u001b[0mnegatives\u001b[0m\u001b[1;33m,\u001b[0m \u001b[0mbackgrounds\u001b[0m \u001b[1;33m=\u001b[0m \u001b[0mload_raw_audio\u001b[0m\u001b[1;33m(\u001b[0m\u001b[1;33m)\u001b[0m\u001b[1;33m\u001b[0m\u001b[1;33m\u001b[0m\u001b[0m\n\u001b[0m\u001b[0;32m      7\u001b[0m \u001b[1;33m\u001b[0m\u001b[0m\n\u001b[0;32m      8\u001b[0m \u001b[0mnum_of_data\u001b[0m \u001b[1;33m=\u001b[0m \u001b[1;36m10\u001b[0m\u001b[1;33m\u001b[0m\u001b[1;33m\u001b[0m\u001b[0m\n",
      "\u001b[1;31mTypeError\u001b[0m: load_raw_audio() missing 1 required positional argument: 'audio_dir'"
     ]
    }
   ],
   "source": [
    "if version == 'train':\n",
    "    audio_dir = os.path.join('.', 'data', 'audio_label_clip')\n",
    "else:\n",
    "    audio_dir = os.path.join('.', 'data', 'audio_label_clip_for_test')\n",
    "\n",
    "activates, negatives, backgrounds = load_raw_audio(audio_dir)\n",
    "\n",
    "num_of_data = 10\n",
    "\n",
    "print(activates)\n",
    "if len(backgrounds) == 0:\n",
    "    print(\"backgrounds가 없습니다..\")\n",
    "else:\n",
    "    for i in tqdm(range(num_of_data)):\n",
    "        j = np.random.randint(0, len(backgrounds))\n",
    "        background = backgrounds[j]\n",
    "        x, y = create_training_data(background, \n",
    "                                    activates, \n",
    "                                    negatives, \n",
    "                                    filename='./data/{}_audios/mix_{}.wav'.format(version, i))\n",
    "        x = np.transpose(x)\n",
    "        y = np.transpose(y)\n",
    "        np.save('./data/XY_{}/x_{}'.format(version, i), x)\n",
    "        np.save('./data/XY_{}/y_{}'.format(version, i), y)"
   ]
  },
  {
   "cell_type": "code",
   "execution_count": null,
   "metadata": {},
   "outputs": [],
   "source": [
    "print(x.shape, y.shape)"
   ]
  },
  {
   "cell_type": "code",
   "execution_count": null,
   "metadata": {},
   "outputs": [],
   "source": [
    "IPython.display.Audio(\"./data/{}_audios/mix_{}.wav\".format(version, num_of_data-1))"
   ]
  },
  {
   "cell_type": "code",
   "execution_count": null,
   "metadata": {},
   "outputs": [],
   "source": [
    "plt.plot(np.load('./data/XY_{}/y_{}.npy'.format(version, num_of_data-1)))"
   ]
  }
 ],
 "metadata": {
  "kernelspec": {
   "display_name": "Beeeeep_2",
   "language": "python",
   "name": "python3"
  },
  "language_info": {
   "codemirror_mode": {
    "name": "ipython",
    "version": 3
   },
   "file_extension": ".py",
   "mimetype": "text/x-python",
   "name": "python",
   "nbconvert_exporter": "python",
   "pygments_lexer": "ipython3",
   "version": "3.7.16"
  }
 },
 "nbformat": 4,
 "nbformat_minor": 2
}
